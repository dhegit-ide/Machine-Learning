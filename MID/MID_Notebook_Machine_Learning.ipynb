{
 "cells": [
  {
   "cell_type": "markdown",
   "id": "0a6ce0f4",
   "metadata": {
    "id": "BL6C3s3WzUKY",
    "slideshow": {
     "slide_type": "slide"
    }
   },
   "source": [
    "# Prediksi Harga Emas\n",
    "\n",
    "\n",
    "\n",
    "### Anggota Kelompok:\n",
    "* H071201019 Risky Auliah Nur Qalbi\n",
    "* H071201020 Nanda Putri Ramadhani\n",
    "* H071201029 Nur Izlamiyah Alim\n",
    "* H071201030 Dhea Gita"
   ]
  },
  {
   "cell_type": "markdown",
   "id": "-1U7Wy0FxoOG",
   "metadata": {
    "id": "-1U7Wy0FxoOG",
    "slideshow": {
     "slide_type": "slide"
    }
   },
   "source": [
    "### Deskripsi Data\n",
    "Emas merupakan logam mulia yang paling banyak diminati oleh masyarakat, bukan hanya untuk digunakan sebagai perhiasan tapi juga untuk investasi. Harga emas memang mengacu pada kondisi pasar global. Namun, banyak peristiwa yang mampu mempengaruhi pergerakan harganya. Karena bersifat *risk free*, harga emas secara umum cenderung naik.\n",
    "\n",
    "Dalam penelitian ini, [dataset](https://www.kaggle.com/datasets/altruistdelhite04/gold-price-data) yang digunakan memberikan informasi tentang harga emas berdasarkan beberapa harga saham lainnya seperti yang diberikan di bawah ini di mana kita harus menganalisis harga emas dan membangun model Machine Learning terbaik untuk memprediksi harga emas."
   ]
  },
  {
   "cell_type": "markdown",
   "id": "1897b8e0",
   "metadata": {
    "slideshow": {
     "slide_type": "subslide"
    }
   },
   "source": [
    "### Data fields\n",
    "* **Date** - tanggal dengan format mm/dd/yyyy\n",
    "* **SPX** - indeks saham yang lebih luas cakupannya, terdiri dari 500 perusahaan besar AS. \n",
    "* **GLD** - Harga Emas\n",
    "* **USO** - Harga Minyak Amerika Serikat\n",
    "* **SLV** - Harga Perak/ Silver\n",
    "* **EUR/USD** - nilai tukar uang EURO terhadap dolar US."
   ]
  },
  {
   "cell_type": "markdown",
   "id": "92d598f0",
   "metadata": {
    "slideshow": {
     "slide_type": "subslide"
    }
   },
   "source": [
    "### Objektif\n",
    "* Part 1: Persiapan Dataset\n",
    "* Part 2: EDA (*Exploratory Data Analysis*)\n",
    "* Part 3: Split Dataset\n",
    "* Part 4: Membangun Model\n",
    "* Part 5: Pengujian Model"
   ]
  },
  {
   "cell_type": "markdown",
   "id": "9706464d",
   "metadata": {
    "slideshow": {
     "slide_type": "subslide"
    }
   },
   "source": [
    "\n",
    "### Yang Diperlukan\n",
    "* Python library: `pandas`, `numpy`, `matplotlib`, `seaborn`, `scikit-learn`\n",
    "* Datafiles: `gld_price_data.csv`"
   ]
  },
  {
   "cell_type": "markdown",
   "id": "mwHburFbzj3P",
   "metadata": {
    "id": "mwHburFbzj3P",
    "slideshow": {
     "slide_type": "slide"
    }
   },
   "source": [
    "## Part 1: Persiapan Dataset"
   ]
  },
  {
   "cell_type": "markdown",
   "id": "62e683dd",
   "metadata": {
    "slideshow": {
     "slide_type": "fragment"
    }
   },
   "source": [
    "membaca data csv:"
   ]
  },
  {
   "cell_type": "code",
   "execution_count": 1,
   "id": "43728f32-e971-4335-94dd-ccdb9f3cdc09",
   "metadata": {
    "id": "43728f32-e971-4335-94dd-ccdb9f3cdc09",
    "slideshow": {
     "slide_type": "fragment"
    }
   },
   "outputs": [],
   "source": [
    "import pandas as pd\n",
    "\n",
    "dfile = 'gld_price_data.csv'\n",
    "df = pd.read_csv(dfile)"
   ]
  },
  {
   "cell_type": "markdown",
   "id": "17e50587",
   "metadata": {
    "slideshow": {
     "slide_type": "subslide"
    }
   },
   "source": [
    "memverifikasi data dengan menampilkan lima data teratas:"
   ]
  },
  {
   "cell_type": "code",
   "execution_count": 2,
   "id": "ecae78d4-eaa2-4b25-8a06-797c14c1a55d",
   "metadata": {
    "colab": {
     "base_uri": "https://localhost:8080/",
     "height": 206
    },
    "id": "ecae78d4-eaa2-4b25-8a06-797c14c1a55d",
    "outputId": "2ecd033e-26e2-443f-d6fc-60fb17cbaa94",
    "slideshow": {
     "slide_type": "fragment"
    }
   },
   "outputs": [
    {
     "data": {
      "text/html": [
       "<div>\n",
       "<style scoped>\n",
       "    .dataframe tbody tr th:only-of-type {\n",
       "        vertical-align: middle;\n",
       "    }\n",
       "\n",
       "    .dataframe tbody tr th {\n",
       "        vertical-align: top;\n",
       "    }\n",
       "\n",
       "    .dataframe thead th {\n",
       "        text-align: right;\n",
       "    }\n",
       "</style>\n",
       "<table border=\"1\" class=\"dataframe\">\n",
       "  <thead>\n",
       "    <tr style=\"text-align: right;\">\n",
       "      <th></th>\n",
       "      <th>Date</th>\n",
       "      <th>SPX</th>\n",
       "      <th>GLD</th>\n",
       "      <th>USO</th>\n",
       "      <th>SLV</th>\n",
       "      <th>EUR/USD</th>\n",
       "    </tr>\n",
       "  </thead>\n",
       "  <tbody>\n",
       "    <tr>\n",
       "      <th>0</th>\n",
       "      <td>1/2/2008</td>\n",
       "      <td>1447.160034</td>\n",
       "      <td>84.860001</td>\n",
       "      <td>78.470001</td>\n",
       "      <td>15.180</td>\n",
       "      <td>1.471692</td>\n",
       "    </tr>\n",
       "    <tr>\n",
       "      <th>1</th>\n",
       "      <td>1/3/2008</td>\n",
       "      <td>1447.160034</td>\n",
       "      <td>85.570000</td>\n",
       "      <td>78.370003</td>\n",
       "      <td>15.285</td>\n",
       "      <td>1.474491</td>\n",
       "    </tr>\n",
       "    <tr>\n",
       "      <th>2</th>\n",
       "      <td>1/4/2008</td>\n",
       "      <td>1411.630005</td>\n",
       "      <td>85.129997</td>\n",
       "      <td>77.309998</td>\n",
       "      <td>15.167</td>\n",
       "      <td>1.475492</td>\n",
       "    </tr>\n",
       "    <tr>\n",
       "      <th>3</th>\n",
       "      <td>1/7/2008</td>\n",
       "      <td>1416.180054</td>\n",
       "      <td>84.769997</td>\n",
       "      <td>75.500000</td>\n",
       "      <td>15.053</td>\n",
       "      <td>1.468299</td>\n",
       "    </tr>\n",
       "    <tr>\n",
       "      <th>4</th>\n",
       "      <td>1/8/2008</td>\n",
       "      <td>1390.189941</td>\n",
       "      <td>86.779999</td>\n",
       "      <td>76.059998</td>\n",
       "      <td>15.590</td>\n",
       "      <td>1.557099</td>\n",
       "    </tr>\n",
       "  </tbody>\n",
       "</table>\n",
       "</div>"
      ],
      "text/plain": [
       "       Date          SPX        GLD        USO     SLV   EUR/USD\n",
       "0  1/2/2008  1447.160034  84.860001  78.470001  15.180  1.471692\n",
       "1  1/3/2008  1447.160034  85.570000  78.370003  15.285  1.474491\n",
       "2  1/4/2008  1411.630005  85.129997  77.309998  15.167  1.475492\n",
       "3  1/7/2008  1416.180054  84.769997  75.500000  15.053  1.468299\n",
       "4  1/8/2008  1390.189941  86.779999  76.059998  15.590  1.557099"
      ]
     },
     "execution_count": 2,
     "metadata": {},
     "output_type": "execute_result"
    }
   ],
   "source": [
    "df.head()"
   ]
  },
  {
   "cell_type": "markdown",
   "id": "cd969e54",
   "metadata": {
    "slideshow": {
     "slide_type": "subslide"
    }
   },
   "source": [
    "menampilkan lima data terbawah:"
   ]
  },
  {
   "cell_type": "code",
   "execution_count": 3,
   "id": "z0kLD5TB3086",
   "metadata": {
    "colab": {
     "base_uri": "https://localhost:8080/",
     "height": 206
    },
    "id": "z0kLD5TB3086",
    "outputId": "0bbff5bd-99ce-48e5-9447-8d1bef06243e",
    "slideshow": {
     "slide_type": "fragment"
    }
   },
   "outputs": [
    {
     "data": {
      "text/html": [
       "<div>\n",
       "<style scoped>\n",
       "    .dataframe tbody tr th:only-of-type {\n",
       "        vertical-align: middle;\n",
       "    }\n",
       "\n",
       "    .dataframe tbody tr th {\n",
       "        vertical-align: top;\n",
       "    }\n",
       "\n",
       "    .dataframe thead th {\n",
       "        text-align: right;\n",
       "    }\n",
       "</style>\n",
       "<table border=\"1\" class=\"dataframe\">\n",
       "  <thead>\n",
       "    <tr style=\"text-align: right;\">\n",
       "      <th></th>\n",
       "      <th>Date</th>\n",
       "      <th>SPX</th>\n",
       "      <th>GLD</th>\n",
       "      <th>USO</th>\n",
       "      <th>SLV</th>\n",
       "      <th>EUR/USD</th>\n",
       "    </tr>\n",
       "  </thead>\n",
       "  <tbody>\n",
       "    <tr>\n",
       "      <th>2285</th>\n",
       "      <td>5/8/2018</td>\n",
       "      <td>2671.919922</td>\n",
       "      <td>124.589996</td>\n",
       "      <td>14.0600</td>\n",
       "      <td>15.5100</td>\n",
       "      <td>1.186789</td>\n",
       "    </tr>\n",
       "    <tr>\n",
       "      <th>2286</th>\n",
       "      <td>5/9/2018</td>\n",
       "      <td>2697.790039</td>\n",
       "      <td>124.330002</td>\n",
       "      <td>14.3700</td>\n",
       "      <td>15.5300</td>\n",
       "      <td>1.184722</td>\n",
       "    </tr>\n",
       "    <tr>\n",
       "      <th>2287</th>\n",
       "      <td>5/10/2018</td>\n",
       "      <td>2723.070068</td>\n",
       "      <td>125.180000</td>\n",
       "      <td>14.4100</td>\n",
       "      <td>15.7400</td>\n",
       "      <td>1.191753</td>\n",
       "    </tr>\n",
       "    <tr>\n",
       "      <th>2288</th>\n",
       "      <td>5/14/2018</td>\n",
       "      <td>2730.129883</td>\n",
       "      <td>124.489998</td>\n",
       "      <td>14.3800</td>\n",
       "      <td>15.5600</td>\n",
       "      <td>1.193118</td>\n",
       "    </tr>\n",
       "    <tr>\n",
       "      <th>2289</th>\n",
       "      <td>5/16/2018</td>\n",
       "      <td>2725.780029</td>\n",
       "      <td>122.543800</td>\n",
       "      <td>14.4058</td>\n",
       "      <td>15.4542</td>\n",
       "      <td>1.182033</td>\n",
       "    </tr>\n",
       "  </tbody>\n",
       "</table>\n",
       "</div>"
      ],
      "text/plain": [
       "           Date          SPX         GLD      USO      SLV   EUR/USD\n",
       "2285   5/8/2018  2671.919922  124.589996  14.0600  15.5100  1.186789\n",
       "2286   5/9/2018  2697.790039  124.330002  14.3700  15.5300  1.184722\n",
       "2287  5/10/2018  2723.070068  125.180000  14.4100  15.7400  1.191753\n",
       "2288  5/14/2018  2730.129883  124.489998  14.3800  15.5600  1.193118\n",
       "2289  5/16/2018  2725.780029  122.543800  14.4058  15.4542  1.182033"
      ]
     },
     "execution_count": 3,
     "metadata": {},
     "output_type": "execute_result"
    }
   ],
   "source": [
    "df.tail()"
   ]
  },
  {
   "cell_type": "markdown",
   "id": "9c855397",
   "metadata": {
    "slideshow": {
     "slide_type": "subslide"
    }
   },
   "source": [
    "menampilkan deskripsi statistik data:"
   ]
  },
  {
   "cell_type": "code",
   "execution_count": 4,
   "id": "Ry-AZoeQ1F-z",
   "metadata": {
    "colab": {
     "base_uri": "https://localhost:8080/",
     "height": 300
    },
    "id": "Ry-AZoeQ1F-z",
    "outputId": "ecec5bb6-f21c-43cf-d242-2ba52d273b4e",
    "slideshow": {
     "slide_type": "fragment"
    }
   },
   "outputs": [
    {
     "data": {
      "text/html": [
       "<div>\n",
       "<style scoped>\n",
       "    .dataframe tbody tr th:only-of-type {\n",
       "        vertical-align: middle;\n",
       "    }\n",
       "\n",
       "    .dataframe tbody tr th {\n",
       "        vertical-align: top;\n",
       "    }\n",
       "\n",
       "    .dataframe thead th {\n",
       "        text-align: right;\n",
       "    }\n",
       "</style>\n",
       "<table border=\"1\" class=\"dataframe\">\n",
       "  <thead>\n",
       "    <tr style=\"text-align: right;\">\n",
       "      <th></th>\n",
       "      <th>SPX</th>\n",
       "      <th>GLD</th>\n",
       "      <th>USO</th>\n",
       "      <th>SLV</th>\n",
       "      <th>EUR/USD</th>\n",
       "    </tr>\n",
       "  </thead>\n",
       "  <tbody>\n",
       "    <tr>\n",
       "      <th>count</th>\n",
       "      <td>2290.000000</td>\n",
       "      <td>2290.000000</td>\n",
       "      <td>2290.000000</td>\n",
       "      <td>2290.000000</td>\n",
       "      <td>2290.000000</td>\n",
       "    </tr>\n",
       "    <tr>\n",
       "      <th>mean</th>\n",
       "      <td>1654.315776</td>\n",
       "      <td>122.732875</td>\n",
       "      <td>31.842221</td>\n",
       "      <td>20.084997</td>\n",
       "      <td>1.283653</td>\n",
       "    </tr>\n",
       "    <tr>\n",
       "      <th>std</th>\n",
       "      <td>519.111540</td>\n",
       "      <td>23.283346</td>\n",
       "      <td>19.523517</td>\n",
       "      <td>7.092566</td>\n",
       "      <td>0.131547</td>\n",
       "    </tr>\n",
       "    <tr>\n",
       "      <th>min</th>\n",
       "      <td>676.530029</td>\n",
       "      <td>70.000000</td>\n",
       "      <td>7.960000</td>\n",
       "      <td>8.850000</td>\n",
       "      <td>1.039047</td>\n",
       "    </tr>\n",
       "    <tr>\n",
       "      <th>25%</th>\n",
       "      <td>1239.874969</td>\n",
       "      <td>109.725000</td>\n",
       "      <td>14.380000</td>\n",
       "      <td>15.570000</td>\n",
       "      <td>1.171313</td>\n",
       "    </tr>\n",
       "    <tr>\n",
       "      <th>50%</th>\n",
       "      <td>1551.434998</td>\n",
       "      <td>120.580002</td>\n",
       "      <td>33.869999</td>\n",
       "      <td>17.268500</td>\n",
       "      <td>1.303297</td>\n",
       "    </tr>\n",
       "    <tr>\n",
       "      <th>75%</th>\n",
       "      <td>2073.010070</td>\n",
       "      <td>132.840004</td>\n",
       "      <td>37.827501</td>\n",
       "      <td>22.882500</td>\n",
       "      <td>1.369971</td>\n",
       "    </tr>\n",
       "    <tr>\n",
       "      <th>max</th>\n",
       "      <td>2872.870117</td>\n",
       "      <td>184.589996</td>\n",
       "      <td>117.480003</td>\n",
       "      <td>47.259998</td>\n",
       "      <td>1.598798</td>\n",
       "    </tr>\n",
       "  </tbody>\n",
       "</table>\n",
       "</div>"
      ],
      "text/plain": [
       "               SPX          GLD          USO          SLV      EUR/USD\n",
       "count  2290.000000  2290.000000  2290.000000  2290.000000  2290.000000\n",
       "mean   1654.315776   122.732875    31.842221    20.084997     1.283653\n",
       "std     519.111540    23.283346    19.523517     7.092566     0.131547\n",
       "min     676.530029    70.000000     7.960000     8.850000     1.039047\n",
       "25%    1239.874969   109.725000    14.380000    15.570000     1.171313\n",
       "50%    1551.434998   120.580002    33.869999    17.268500     1.303297\n",
       "75%    2073.010070   132.840004    37.827501    22.882500     1.369971\n",
       "max    2872.870117   184.589996   117.480003    47.259998     1.598798"
      ]
     },
     "execution_count": 4,
     "metadata": {},
     "output_type": "execute_result"
    }
   ],
   "source": [
    "df.describe()"
   ]
  },
  {
   "cell_type": "markdown",
   "id": "0d87247b",
   "metadata": {
    "slideshow": {
     "slide_type": "subslide"
    }
   },
   "source": [
    "menampilkan informasi dataframe:"
   ]
  },
  {
   "cell_type": "code",
   "execution_count": 5,
   "id": "F3rgrzhYZlrt",
   "metadata": {
    "colab": {
     "base_uri": "https://localhost:8080/"
    },
    "id": "F3rgrzhYZlrt",
    "outputId": "e6a0eb2c-884d-47d4-b209-693cfab8dc83",
    "slideshow": {
     "slide_type": "fragment"
    }
   },
   "outputs": [
    {
     "name": "stdout",
     "output_type": "stream",
     "text": [
      "<class 'pandas.core.frame.DataFrame'>\n",
      "RangeIndex: 2290 entries, 0 to 2289\n",
      "Data columns (total 6 columns):\n",
      " #   Column   Non-Null Count  Dtype  \n",
      "---  ------   --------------  -----  \n",
      " 0   Date     2290 non-null   object \n",
      " 1   SPX      2290 non-null   float64\n",
      " 2   GLD      2290 non-null   float64\n",
      " 3   USO      2290 non-null   float64\n",
      " 4   SLV      2290 non-null   float64\n",
      " 5   EUR/USD  2290 non-null   float64\n",
      "dtypes: float64(5), object(1)\n",
      "memory usage: 107.5+ KB\n"
     ]
    }
   ],
   "source": [
    "df.info()"
   ]
  },
  {
   "cell_type": "markdown",
   "id": "eObcFH1B1JwA",
   "metadata": {
    "id": "eObcFH1B1JwA",
    "slideshow": {
     "slide_type": "slide"
    }
   },
   "source": [
    "## Part 2: EDA (*Exploratory Data Analysis*)"
   ]
  },
  {
   "cell_type": "markdown",
   "id": "86a481e1",
   "metadata": {
    "slideshow": {
     "slide_type": "fragment"
    }
   },
   "source": [
    "mencari categorical features yang bertipe objek dan tidak termasuk 'GLD':"
   ]
  },
  {
   "cell_type": "code",
   "execution_count": 6,
   "id": "J95C1XCR6sgi",
   "metadata": {
    "colab": {
     "base_uri": "https://localhost:8080/"
    },
    "id": "J95C1XCR6sgi",
    "outputId": "9bdd0c8a-0ec0-48f8-bf79-835c6753eb26",
    "slideshow": {
     "slide_type": "fragment"
    }
   },
   "outputs": [
    {
     "data": {
      "text/plain": [
       "['Date']"
      ]
     },
     "execution_count": 6,
     "metadata": {},
     "output_type": "execute_result"
    }
   ],
   "source": [
    "categorical_features = [feature for feature in df.columns if((df[feature].dtypes == 'O') \n",
    "                                                             & (feature not in ['GLD']))]\n",
    "categorical_features"
   ]
  },
  {
   "cell_type": "markdown",
   "id": "3a25539b",
   "metadata": {
    "slideshow": {
     "slide_type": "fragment"
    }
   },
   "source": [
    "mencari numerical_features yang tidak bertipe objek dan tidak termasuk 'GLD':"
   ]
  },
  {
   "cell_type": "code",
   "execution_count": 7,
   "id": "R5x3wgviADRQ",
   "metadata": {
    "colab": {
     "base_uri": "https://localhost:8080/"
    },
    "id": "R5x3wgviADRQ",
    "outputId": "ef104396-e31e-4283-9796-ad93d1ae25d4",
    "slideshow": {
     "slide_type": "fragment"
    }
   },
   "outputs": [
    {
     "data": {
      "text/plain": [
       "['SPX', 'USO', 'SLV', 'EUR/USD']"
      ]
     },
     "execution_count": 7,
     "metadata": {},
     "output_type": "execute_result"
    }
   ],
   "source": [
    "numerical_features = [feature for feature in df.columns if((df[feature].dtypes != 'O') \n",
    "                                                           & (feature not in ['GLD']))]\n",
    "numerical_features"
   ]
  },
  {
   "cell_type": "markdown",
   "id": "b619af92",
   "metadata": {
    "slideshow": {
     "slide_type": "subslide"
    }
   },
   "source": [
    "mencari features yang bernilai diskrit:"
   ]
  },
  {
   "cell_type": "code",
   "execution_count": 8,
   "id": "6cM3epE0Atl3",
   "metadata": {
    "colab": {
     "base_uri": "https://localhost:8080/"
    },
    "id": "6cM3epE0Atl3",
    "outputId": "57fe93ff-21e1-4ae0-91fa-5b7a955f13f1",
    "slideshow": {
     "slide_type": "fragment"
    }
   },
   "outputs": [
    {
     "name": "stdout",
     "output_type": "stream",
     "text": [
      "Jumlah variabel diskrit: 0\n"
     ]
    }
   ],
   "source": [
    "discrete_feature = [feature for feature in numerical_features if len(df[feature].unique()) < 25]\n",
    "print(\"Jumlah variabel diskrit: {}\".format(len(discrete_feature )))"
   ]
  },
  {
   "cell_type": "markdown",
   "id": "a527d03b",
   "metadata": {
    "slideshow": {
     "slide_type": "fragment"
    }
   },
   "source": [
    "mencari features yang bernilai kontinu:"
   ]
  },
  {
   "cell_type": "code",
   "execution_count": 9,
   "id": "qrzDpSEDEudX",
   "metadata": {
    "colab": {
     "base_uri": "https://localhost:8080/"
    },
    "id": "qrzDpSEDEudX",
    "outputId": "a19c1ac9-0904-448a-9f2d-75f3385c6e47",
    "slideshow": {
     "slide_type": "fragment"
    }
   },
   "outputs": [
    {
     "name": "stdout",
     "output_type": "stream",
     "text": [
      "Jumlah variabel kontinu: 4\n"
     ]
    }
   ],
   "source": [
    "continuous_features = [feature for feature in numerical_features if feature not in discrete_feature+['GLD']]\n",
    "print(\"Jumlah variabel kontinu: {}\".format(len(continuous_features)))"
   ]
  },
  {
   "cell_type": "markdown",
   "id": "aJhnJuEnTfSs",
   "metadata": {
    "id": "aJhnJuEnTfSs",
    "slideshow": {
     "slide_type": "slide"
    }
   },
   "source": [
    "### a. Visualisasi Distribusi Plot"
   ]
  },
  {
   "cell_type": "code",
   "execution_count": 10,
   "id": "FBLg-ua6c7PH",
   "metadata": {
    "id": "FBLg-ua6c7PH",
    "slideshow": {
     "slide_type": "fragment"
    }
   },
   "outputs": [],
   "source": [
    "import seaborn as sns"
   ]
  },
  {
   "cell_type": "markdown",
   "id": "14de8eb2",
   "metadata": {
    "slideshow": {
     "slide_type": "subslide"
    }
   },
   "source": [
    "distribusi plot SPX:"
   ]
  },
  {
   "cell_type": "code",
   "execution_count": 11,
   "id": "rjgKlKkAQW3r",
   "metadata": {
    "colab": {
     "base_uri": "https://localhost:8080/",
     "height": 354
    },
    "id": "rjgKlKkAQW3r",
    "outputId": "f7cd75e0-2453-473e-c9c3-fe970210341b",
    "slideshow": {
     "slide_type": "fragment"
    }
   },
   "outputs": [
    {
     "name": "stderr",
     "output_type": "stream",
     "text": [
      "C:\\Users\\Dhea Gita\\AppData\\Local\\Programs\\Python\\Python310\\lib\\site-packages\\seaborn\\distributions.py:2619: FutureWarning: `distplot` is a deprecated function and will be removed in a future version. Please adapt your code to use either `displot` (a figure-level function with similar flexibility) or `histplot` (an axes-level function for histograms).\n",
      "  warnings.warn(msg, FutureWarning)\n"
     ]
    },
    {
     "data": {
      "text/plain": [
       "<AxesSubplot:xlabel='SPX', ylabel='Density'>"
      ]
     },
     "execution_count": 11,
     "metadata": {},
     "output_type": "execute_result"
    },
    {
     "data": {
      "image/png": "[encoded data removed]",
      "text/plain": [
       "<Figure size 432x288 with 1 Axes>"
      ]
     },
     "metadata": {
      "needs_background": "light"
     },
     "output_type": "display_data"
    }
   ],
   "source": [
    "sns.distplot(df['SPX'])"
   ]
  },
  {
   "cell_type": "markdown",
   "id": "e3cda3b9",
   "metadata": {
    "slideshow": {
     "slide_type": "subslide"
    }
   },
   "source": [
    "distribusi plot USO:"
   ]
  },
  {
   "cell_type": "code",
   "execution_count": 12,
   "id": "132ca6ba",
   "metadata": {
    "slideshow": {
     "slide_type": "fragment"
    }
   },
   "outputs": [
    {
     "name": "stderr",
     "output_type": "stream",
     "text": [
      "C:\\Users\\Dhea Gita\\AppData\\Local\\Programs\\Python\\Python310\\lib\\site-packages\\seaborn\\distributions.py:2619: FutureWarning: `distplot` is a deprecated function and will be removed in a future version. Please adapt your code to use either `displot` (a figure-level function with similar flexibility) or `histplot` (an axes-level function for histograms).\n",
      "  warnings.warn(msg, FutureWarning)\n"
     ]
    },
    {
     "data": {
      "text/plain": [
       "<AxesSubplot:xlabel='USO', ylabel='Density'>"
      ]
     },
     "execution_count": 12,
     "metadata": {},
     "output_type": "execute_result"
    },
    {
     "data": {
      "image/png": "[encoded data removed]",
      "text/plain": [
       "<Figure size 432x288 with 1 Axes>"
      ]
     },
     "metadata": {
      "needs_background": "light"
     },
     "output_type": "display_data"
    }
   ],
   "source": [
    "sns.distplot(df['USO'])"
   ]
  },
  {
   "cell_type": "markdown",
   "id": "iKmyLA72R1aH",
   "metadata": {
    "id": "iKmyLA72R1aH",
    "slideshow": {
     "slide_type": "fragment"
    }
   },
   "source": [
    "Grafik distribusi USO tampak lebih condong ke kanan dan terlihat memiliki banyak outliers"
   ]
  },
  {
   "cell_type": "markdown",
   "id": "d2d40400",
   "metadata": {
    "slideshow": {
     "slide_type": "subslide"
    }
   },
   "source": [
    "distribusi plot SLV:"
   ]
  },
  {
   "cell_type": "code",
   "execution_count": 13,
   "id": "ssMnLY7UQvZp",
   "metadata": {
    "colab": {
     "base_uri": "https://localhost:8080/",
     "height": 354
    },
    "id": "ssMnLY7UQvZp",
    "outputId": "ba4cedfb-86e5-4208-e8ce-6eb90132be12",
    "slideshow": {
     "slide_type": "fragment"
    }
   },
   "outputs": [
    {
     "name": "stderr",
     "output_type": "stream",
     "text": [
      "C:\\Users\\Dhea Gita\\AppData\\Local\\Programs\\Python\\Python310\\lib\\site-packages\\seaborn\\distributions.py:2619: FutureWarning: `distplot` is a deprecated function and will be removed in a future version. Please adapt your code to use either `displot` (a figure-level function with similar flexibility) or `histplot` (an axes-level function for histograms).\n",
      "  warnings.warn(msg, FutureWarning)\n"
     ]
    },
    {
     "data": {
      "text/plain": [
       "<AxesSubplot:xlabel='SLV', ylabel='Density'>"
      ]
     },
     "execution_count": 13,
     "metadata": {},
     "output_type": "execute_result"
    },
    {
     "data": {
      "image/png": "[encoded data removed]",
      "text/plain": [
       "<Figure size 432x288 with 1 Axes>"
      ]
     },
     "metadata": {
      "needs_background": "light"
     },
     "output_type": "display_data"
    }
   ],
   "source": [
    "sns.distplot(df['SLV'])"
   ]
  },
  {
   "cell_type": "markdown",
   "id": "03101fbc",
   "metadata": {
    "slideshow": {
     "slide_type": "subslide"
    }
   },
   "source": [
    "distribusi plot EUR/USD:"
   ]
  },
  {
   "cell_type": "code",
   "execution_count": 14,
   "id": "juWVag33Qxkc",
   "metadata": {
    "colab": {
     "base_uri": "https://localhost:8080/",
     "height": 354
    },
    "id": "juWVag33Qxkc",
    "outputId": "a68f0b62-43b3-49f0-c6ea-d9b941ed293b",
    "slideshow": {
     "slide_type": "fragment"
    }
   },
   "outputs": [
    {
     "name": "stderr",
     "output_type": "stream",
     "text": [
      "C:\\Users\\Dhea Gita\\AppData\\Local\\Programs\\Python\\Python310\\lib\\site-packages\\seaborn\\distributions.py:2619: FutureWarning: `distplot` is a deprecated function and will be removed in a future version. Please adapt your code to use either `displot` (a figure-level function with similar flexibility) or `histplot` (an axes-level function for histograms).\n",
      "  warnings.warn(msg, FutureWarning)\n"
     ]
    },
    {
     "data": {
      "text/plain": [
       "<AxesSubplot:xlabel='EUR/USD', ylabel='Density'>"
      ]
     },
     "execution_count": 14,
     "metadata": {},
     "output_type": "execute_result"
    },
    {
     "data": {
      "image/png": "[encoded data removed]",
      "text/plain": [
       "<Figure size 432x288 with 1 Axes>"
      ]
     },
     "metadata": {
      "needs_background": "light"
     },
     "output_type": "display_data"
    }
   ],
   "source": [
    "sns.distplot(df['EUR/USD'])"
   ]
  },
  {
   "cell_type": "markdown",
   "id": "hC_SfOH_Tn-K",
   "metadata": {
    "id": "hC_SfOH_Tn-K",
    "slideshow": {
     "slide_type": "slide"
    }
   },
   "source": [
    "### b. Visualisasi Scatter Plot"
   ]
  },
  {
   "cell_type": "code",
   "execution_count": 15,
   "id": "vsJYla-1dMbP",
   "metadata": {
    "id": "vsJYla-1dMbP",
    "slideshow": {
     "slide_type": "fragment"
    }
   },
   "outputs": [],
   "source": [
    "import matplotlib.pyplot as plt"
   ]
  },
  {
   "cell_type": "markdown",
   "id": "e06eb18e",
   "metadata": {
    "slideshow": {
     "slide_type": "subslide"
    }
   },
   "source": [
    "scatter plot SPX terhadap GLD:"
   ]
  },
  {
   "cell_type": "code",
   "execution_count": 16,
   "id": "rOH3mAVcVZ9d",
   "metadata": {
    "colab": {
     "base_uri": "https://localhost:8080/",
     "height": 283
    },
    "id": "rOH3mAVcVZ9d",
    "outputId": "ebb33a49-3b07-463f-a1c9-363b781922ee",
    "scrolled": true,
    "slideshow": {
     "slide_type": "fragment"
    }
   },
   "outputs": [
    {
     "data": {
      "text/plain": [
       "<matplotlib.collections.PathCollection at 0x1e1f02fddb0>"
      ]
     },
     "execution_count": 16,
     "metadata": {},
     "output_type": "execute_result"
    },
    {
     "data": {
      "image/png": "[encoded data removed]",
      "text/plain": [
       "<Figure size 432x288 with 1 Axes>"
      ]
     },
     "metadata": {
      "needs_background": "light"
     },
     "output_type": "display_data"
    }
   ],
   "source": [
    "plt.scatter(df['SPX'], df['GLD'])"
   ]
  },
  {
   "cell_type": "markdown",
   "id": "1cb299c2",
   "metadata": {
    "slideshow": {
     "slide_type": "subslide"
    }
   },
   "source": [
    "scatter plot USO terhadap GLD:"
   ]
  },
  {
   "cell_type": "code",
   "execution_count": 17,
   "id": "W4jHmvLQUenj",
   "metadata": {
    "colab": {
     "base_uri": "https://localhost:8080/",
     "height": 283
    },
    "id": "W4jHmvLQUenj",
    "outputId": "cd3884b2-04c1-436f-bd00-e23db1b273ad",
    "slideshow": {
     "slide_type": "fragment"
    }
   },
   "outputs": [
    {
     "data": {
      "text/plain": [
       "<matplotlib.collections.PathCollection at 0x1e1f037c2b0>"
      ]
     },
     "execution_count": 17,
     "metadata": {},
     "output_type": "execute_result"
    },
    {
     "data": {
      "image/png": "[encoded data removed]",
      "text/plain": [
       "<Figure size 432x288 with 1 Axes>"
      ]
     },
     "metadata": {
      "needs_background": "light"
     },
     "output_type": "display_data"
    }
   ],
   "source": [
    "plt.scatter(df['USO'], df['GLD'])"
   ]
  },
  {
   "cell_type": "markdown",
   "id": "4af7f6f8",
   "metadata": {
    "slideshow": {
     "slide_type": "subslide"
    }
   },
   "source": [
    "scatter plot SLV terhadap GLD:"
   ]
  },
  {
   "cell_type": "code",
   "execution_count": 18,
   "id": "7ZCyM7ESTpx0",
   "metadata": {
    "colab": {
     "base_uri": "https://localhost:8080/",
     "height": 283
    },
    "id": "7ZCyM7ESTpx0",
    "outputId": "1e25bcb8-69f9-4629-c4da-7e9cc24c64d8",
    "slideshow": {
     "slide_type": "fragment"
    }
   },
   "outputs": [
    {
     "data": {
      "text/plain": [
       "<matplotlib.collections.PathCollection at 0x1e1f037ed10>"
      ]
     },
     "execution_count": 18,
     "metadata": {},
     "output_type": "execute_result"
    },
    {
     "data": {
      "image/png": "[encoded data removed]",
      "text/plain": [
       "<Figure size 432x288 with 1 Axes>"
      ]
     },
     "metadata": {
      "needs_background": "light"
     },
     "output_type": "display_data"
    }
   ],
   "source": [
    "plt.scatter(df['SLV'], df['GLD'])"
   ]
  },
  {
   "cell_type": "markdown",
   "id": "7c6a7e2d",
   "metadata": {
    "slideshow": {
     "slide_type": "fragment"
    }
   },
   "source": [
    "terlihat membentuk garis linear"
   ]
  },
  {
   "cell_type": "markdown",
   "id": "35561be1",
   "metadata": {
    "slideshow": {
     "slide_type": "subslide"
    }
   },
   "source": [
    "scatter plot EUR/USD terhadap GLD:"
   ]
  },
  {
   "cell_type": "code",
   "execution_count": 19,
   "id": "BZ6jqOQlVVqz",
   "metadata": {
    "colab": {
     "base_uri": "https://localhost:8080/",
     "height": 283
    },
    "id": "BZ6jqOQlVVqz",
    "outputId": "86b828b5-95af-437f-be32-4404b15a9ce5",
    "slideshow": {
     "slide_type": "fragment"
    }
   },
   "outputs": [
    {
     "data": {
      "text/plain": [
       "<matplotlib.collections.PathCollection at 0x1e1f043b0a0>"
      ]
     },
     "execution_count": 19,
     "metadata": {},
     "output_type": "execute_result"
    },
    {
     "data": {
      "image/png": "[encoded data removed]",
      "text/plain": [
       "<Figure size 432x288 with 1 Axes>"
      ]
     },
     "metadata": {
      "needs_background": "light"
     },
     "output_type": "display_data"
    }
   ],
   "source": [
    "plt.scatter(df['EUR/USD'], df['GLD'])"
   ]
  },
  {
   "cell_type": "markdown",
   "id": "Tdl6zXjpVwdD",
   "metadata": {
    "id": "Tdl6zXjpVwdD",
    "slideshow": {
     "slide_type": "subslide"
    }
   },
   "source": [
    "### c. Visualisasi Box Plot untuk mencari outliers"
   ]
  },
  {
   "cell_type": "markdown",
   "id": "f8bebf81",
   "metadata": {
    "slideshow": {
     "slide_type": "fragment"
    }
   },
   "source": [
    "box plot SPX:"
   ]
  },
  {
   "cell_type": "code",
   "execution_count": 20,
   "id": "lNdTRsSJWNWr",
   "metadata": {
    "colab": {
     "base_uri": "https://localhost:8080/",
     "height": 354
    },
    "id": "lNdTRsSJWNWr",
    "outputId": "1be07c69-d918-4780-f895-d3071125d250",
    "slideshow": {
     "slide_type": "fragment"
    }
   },
   "outputs": [
    {
     "name": "stderr",
     "output_type": "stream",
     "text": [
      "C:\\Users\\Dhea Gita\\AppData\\Local\\Programs\\Python\\Python310\\lib\\site-packages\\seaborn\\_decorators.py:36: FutureWarning: Pass the following variable as a keyword arg: x. From version 0.12, the only valid positional argument will be `data`, and passing other arguments without an explicit keyword will result in an error or misinterpretation.\n",
      "  warnings.warn(\n"
     ]
    },
    {
     "data": {
      "text/plain": [
       "<AxesSubplot:xlabel='SPX'>"
      ]
     },
     "execution_count": 20,
     "metadata": {},
     "output_type": "execute_result"
    },
    {
     "data": {
      "image/png": "[encoded data removed]",
      "text/plain": [
       "<Figure size 432x288 with 1 Axes>"
      ]
     },
     "metadata": {
      "needs_background": "light"
     },
     "output_type": "display_data"
    }
   ],
   "source": [
    "sns.boxplot(df['SPX'])"
   ]
  },
  {
   "cell_type": "markdown",
   "id": "bb8b0239",
   "metadata": {
    "slideshow": {
     "slide_type": "subslide"
    }
   },
   "source": [
    "box plot USO:"
   ]
  },
  {
   "cell_type": "code",
   "execution_count": 21,
   "id": "hbzk-pnkWQJx",
   "metadata": {
    "colab": {
     "base_uri": "https://localhost:8080/",
     "height": 354
    },
    "id": "hbzk-pnkWQJx",
    "outputId": "b6b112b6-d24e-4826-cee4-b2626524b140",
    "slideshow": {
     "slide_type": "fragment"
    }
   },
   "outputs": [
    {
     "name": "stderr",
     "output_type": "stream",
     "text": [
      "C:\\Users\\Dhea Gita\\AppData\\Local\\Programs\\Python\\Python310\\lib\\site-packages\\seaborn\\_decorators.py:36: FutureWarning: Pass the following variable as a keyword arg: x. From version 0.12, the only valid positional argument will be `data`, and passing other arguments without an explicit keyword will result in an error or misinterpretation.\n",
      "  warnings.warn(\n"
     ]
    },
    {
     "data": {
      "text/plain": [
       "<AxesSubplot:xlabel='USO'>"
      ]
     },
     "execution_count": 21,
     "metadata": {},
     "output_type": "execute_result"
    },
    {
     "data": {
      "image/png": "[encoded data removed]",
      "text/plain": [
       "<Figure size 432x288 with 1 Axes>"
      ]
     },
     "metadata": {
      "needs_background": "light"
     },
     "output_type": "display_data"
    }
   ],
   "source": [
    "sns.boxplot(df['USO'])"
   ]
  },
  {
   "cell_type": "markdown",
   "id": "b9bb1db9",
   "metadata": {
    "slideshow": {
     "slide_type": "subslide"
    }
   },
   "source": [
    "box plot SLV:"
   ]
  },
  {
   "cell_type": "code",
   "execution_count": 22,
   "id": "uC5sX0rgV6sV",
   "metadata": {
    "colab": {
     "base_uri": "https://localhost:8080/",
     "height": 354
    },
    "id": "uC5sX0rgV6sV",
    "outputId": "e34fd041-61a1-45c4-99d9-4eb94d6ceaf5",
    "slideshow": {
     "slide_type": "fragment"
    }
   },
   "outputs": [
    {
     "name": "stderr",
     "output_type": "stream",
     "text": [
      "C:\\Users\\Dhea Gita\\AppData\\Local\\Programs\\Python\\Python310\\lib\\site-packages\\seaborn\\_decorators.py:36: FutureWarning: Pass the following variable as a keyword arg: x. From version 0.12, the only valid positional argument will be `data`, and passing other arguments without an explicit keyword will result in an error or misinterpretation.\n",
      "  warnings.warn(\n"
     ]
    },
    {
     "data": {
      "text/plain": [
       "<AxesSubplot:xlabel='SLV'>"
      ]
     },
     "execution_count": 22,
     "metadata": {},
     "output_type": "execute_result"
    },
    {
     "data": {
      "image/png": "[encoded data removed]",
      "text/plain": [
       "<Figure size 432x288 with 1 Axes>"
      ]
     },
     "metadata": {
      "needs_background": "light"
     },
     "output_type": "display_data"
    }
   ],
   "source": [
    "sns.boxplot(df['SLV'])"
   ]
  },
  {
   "cell_type": "markdown",
   "id": "52270881",
   "metadata": {
    "slideshow": {
     "slide_type": "subslide"
    }
   },
   "source": [
    "box plot EUR/USD:"
   ]
  },
  {
   "cell_type": "code",
   "execution_count": 23,
   "id": "_wf_B151WjNg",
   "metadata": {
    "colab": {
     "base_uri": "https://localhost:8080/",
     "height": 354
    },
    "id": "_wf_B151WjNg",
    "outputId": "d5424b92-ef09-45b5-9183-e0d7d49c2260",
    "slideshow": {
     "slide_type": "fragment"
    }
   },
   "outputs": [
    {
     "name": "stderr",
     "output_type": "stream",
     "text": [
      "C:\\Users\\Dhea Gita\\AppData\\Local\\Programs\\Python\\Python310\\lib\\site-packages\\seaborn\\_decorators.py:36: FutureWarning: Pass the following variable as a keyword arg: x. From version 0.12, the only valid positional argument will be `data`, and passing other arguments without an explicit keyword will result in an error or misinterpretation.\n",
      "  warnings.warn(\n"
     ]
    },
    {
     "data": {
      "text/plain": [
       "<AxesSubplot:xlabel='EUR/USD'>"
      ]
     },
     "execution_count": 23,
     "metadata": {},
     "output_type": "execute_result"
    },
    {
     "data": {
      "image/png": "[encoded data removed]",
      "text/plain": [
       "<Figure size 432x288 with 1 Axes>"
      ]
     },
     "metadata": {
      "needs_background": "light"
     },
     "output_type": "display_data"
    }
   ],
   "source": [
    "sns.boxplot(df['EUR/USD'])"
   ]
  },
  {
   "cell_type": "markdown",
   "id": "xh3MmlzFf_xa",
   "metadata": {
    "id": "xh3MmlzFf_xa",
    "slideshow": {
     "slide_type": "subslide"
    }
   },
   "source": [
    "### d. Visualisasi Heatmap Korelasi"
   ]
  },
  {
   "cell_type": "code",
   "execution_count": 24,
   "id": "b155e3cc-d7c6-4bde-aa5b-ed0b02c9bfe8",
   "metadata": {
    "colab": {
     "base_uri": "https://localhost:8080/",
     "height": 287
    },
    "id": "b155e3cc-d7c6-4bde-aa5b-ed0b02c9bfe8",
    "outputId": "dc046e26-6e61-417e-9cf7-73fb226678b8",
    "slideshow": {
     "slide_type": "fragment"
    }
   },
   "outputs": [
    {
     "data": {
      "text/plain": [
       "<AxesSubplot:>"
      ]
     },
     "execution_count": 24,
     "metadata": {},
     "output_type": "execute_result"
    },
    {
     "data": {
      "image/png": "[encoded data removed]",
      "text/plain": [
       "<Figure size 432x288 with 2 Axes>"
      ]
     },
     "metadata": {
      "needs_background": "light"
     },
     "output_type": "display_data"
    }
   ],
   "source": [
    "sns.heatmap(df.corr())"
   ]
  },
  {
   "cell_type": "markdown",
   "id": "cbd4bbb9",
   "metadata": {
    "slideshow": {
     "slide_type": "subslide"
    }
   },
   "source": [
    "nilai korelasi antara GLD dengan variabel lainnya"
   ]
  },
  {
   "cell_type": "code",
   "execution_count": 25,
   "id": "66f73b87-0580-47af-9665-250eca8cedeb",
   "metadata": {
    "colab": {
     "base_uri": "https://localhost:8080/"
    },
    "id": "66f73b87-0580-47af-9665-250eca8cedeb",
    "outputId": "c1062332-69f7-473a-b9a8-d95ab3bde5f5",
    "slideshow": {
     "slide_type": "fragment"
    }
   },
   "outputs": [
    {
     "name": "stdout",
     "output_type": "stream",
     "text": [
      "GLD        1.000000\n",
      "SLV        0.866632\n",
      "SPX        0.049345\n",
      "EUR/USD   -0.024375\n",
      "USO       -0.186360\n",
      "Name: GLD, dtype: float64\n"
     ]
    }
   ],
   "source": [
    "print(df.corr()['GLD'].sort_values(ascending=False))"
   ]
  },
  {
   "cell_type": "markdown",
   "id": "bfozRdxQYPZX",
   "metadata": {
    "id": "bfozRdxQYPZX",
    "slideshow": {
     "slide_type": "subslide"
    }
   },
   "source": [
    "### Hasil EDA\n",
    "* kolom `Date` akan dihapus\n",
    "* tak ada missing-value\n",
    "* ditemukan outliers pada USO"
   ]
  },
  {
   "cell_type": "markdown",
   "id": "bbe8d912-5598-40bb-983f-e79a4288ea83",
   "metadata": {
    "id": "bbe8d912-5598-40bb-983f-e79a4288ea83",
    "slideshow": {
     "slide_type": "slide"
    }
   },
   "source": [
    "## Part 3: Split Dataset Menjadi Data `test` dan `train`"
   ]
  },
  {
   "cell_type": "markdown",
   "id": "1aae50a8",
   "metadata": {
    "slideshow": {
     "slide_type": "fragment"
    }
   },
   "source": [
    "memilih feature (X) dan target (Y):"
   ]
  },
  {
   "cell_type": "code",
   "execution_count": 26,
   "id": "4iRgZ-9Tu-pL",
   "metadata": {
    "id": "4iRgZ-9Tu-pL",
    "slideshow": {
     "slide_type": "fragment"
    }
   },
   "outputs": [],
   "source": [
    "X = df.drop(['Date', 'GLD'], axis=1)\n",
    "y = df['GLD']"
   ]
  },
  {
   "cell_type": "markdown",
   "id": "4902a6f6",
   "metadata": {
    "slideshow": {
     "slide_type": "subslide"
    }
   },
   "source": [
    "membagi dataset dengan rasio 15%:85%"
   ]
  },
  {
   "cell_type": "code",
   "execution_count": 27,
   "id": "49a2c78b-6465-4a3c-855a-081f674df48b",
   "metadata": {
    "id": "49a2c78b-6465-4a3c-855a-081f674df48b",
    "slideshow": {
     "slide_type": "fragment"
    }
   },
   "outputs": [],
   "source": [
    "from sklearn.model_selection import train_test_split\n",
    "X_train, X_test, y_train, y_test = train_test_split(X, y, test_size=0.15, random_state=2)"
   ]
  },
  {
   "cell_type": "markdown",
   "id": "d5ac3424",
   "metadata": {
    "slideshow": {
     "slide_type": "subslide"
    }
   },
   "source": [
    "hasil pembagian dataset:"
   ]
  },
  {
   "cell_type": "code",
   "execution_count": 28,
   "id": "1iQZc62ThUMJ",
   "metadata": {
    "colab": {
     "base_uri": "https://localhost:8080/"
    },
    "id": "1iQZc62ThUMJ",
    "outputId": "ac4b19ac-57a4-4fa3-8bcf-df21e422142a",
    "slideshow": {
     "slide_type": "fragment"
    }
   },
   "outputs": [
    {
     "name": "stdout",
     "output_type": "stream",
     "text": [
      "Jumlah data X_train: 1946\n",
      "Jumlah data X_test: 344\n"
     ]
    }
   ],
   "source": [
    "print(\"Jumlah data X_train:\", len(X_train))\n",
    "print(\"Jumlah data X_test:\", len(X_test))"
   ]
  },
  {
   "cell_type": "markdown",
   "id": "274b0cec",
   "metadata": {
    "slideshow": {
     "slide_type": "subslide"
    }
   },
   "source": [
    "menampilkan lima data teratas X_train"
   ]
  },
  {
   "cell_type": "code",
   "execution_count": 29,
   "id": "a2923f12-2835-4058-9bd0-8c4866d625f6",
   "metadata": {
    "colab": {
     "base_uri": "https://localhost:8080/",
     "height": 206
    },
    "id": "a2923f12-2835-4058-9bd0-8c4866d625f6",
    "outputId": "08869abf-d730-4179-cf50-25a3ab0d259b",
    "slideshow": {
     "slide_type": "fragment"
    }
   },
   "outputs": [
    {
     "data": {
      "text/html": [
       "<div>\n",
       "<style scoped>\n",
       "    .dataframe tbody tr th:only-of-type {\n",
       "        vertical-align: middle;\n",
       "    }\n",
       "\n",
       "    .dataframe tbody tr th {\n",
       "        vertical-align: top;\n",
       "    }\n",
       "\n",
       "    .dataframe thead th {\n",
       "        text-align: right;\n",
       "    }\n",
       "</style>\n",
       "<table border=\"1\" class=\"dataframe\">\n",
       "  <thead>\n",
       "    <tr style=\"text-align: right;\">\n",
       "      <th></th>\n",
       "      <th>SPX</th>\n",
       "      <th>USO</th>\n",
       "      <th>SLV</th>\n",
       "      <th>EUR/USD</th>\n",
       "    </tr>\n",
       "  </thead>\n",
       "  <tbody>\n",
       "    <tr>\n",
       "      <th>2016</th>\n",
       "      <td>2347.219971</td>\n",
       "      <td>11.410000</td>\n",
       "      <td>17.150000</td>\n",
       "      <td>1.060738</td>\n",
       "    </tr>\n",
       "    <tr>\n",
       "      <th>1123</th>\n",
       "      <td>1517.010010</td>\n",
       "      <td>35.119999</td>\n",
       "      <td>30.000000</td>\n",
       "      <td>1.336827</td>\n",
       "    </tr>\n",
       "    <tr>\n",
       "      <th>1523</th>\n",
       "      <td>2075.370117</td>\n",
       "      <td>24.959999</td>\n",
       "      <td>15.610000</td>\n",
       "      <td>1.238666</td>\n",
       "    </tr>\n",
       "    <tr>\n",
       "      <th>2064</th>\n",
       "      <td>2388.129883</td>\n",
       "      <td>9.930000</td>\n",
       "      <td>15.590000</td>\n",
       "      <td>1.088898</td>\n",
       "    </tr>\n",
       "    <tr>\n",
       "      <th>756</th>\n",
       "      <td>1271.829956</td>\n",
       "      <td>38.259998</td>\n",
       "      <td>33.869999</td>\n",
       "      <td>1.441691</td>\n",
       "    </tr>\n",
       "  </tbody>\n",
       "</table>\n",
       "</div>"
      ],
      "text/plain": [
       "              SPX        USO        SLV   EUR/USD\n",
       "2016  2347.219971  11.410000  17.150000  1.060738\n",
       "1123  1517.010010  35.119999  30.000000  1.336827\n",
       "1523  2075.370117  24.959999  15.610000  1.238666\n",
       "2064  2388.129883   9.930000  15.590000  1.088898\n",
       "756   1271.829956  38.259998  33.869999  1.441691"
      ]
     },
     "execution_count": 29,
     "metadata": {},
     "output_type": "execute_result"
    }
   ],
   "source": [
    "X_train.head()"
   ]
  },
  {
   "cell_type": "markdown",
   "id": "1779fc62-e38b-4293-af0c-41513490f944",
   "metadata": {
    "id": "1779fc62-e38b-4293-af0c-41513490f944",
    "slideshow": {
     "slide_type": "slide"
    }
   },
   "source": [
    "##  Part 4: Membangun Model"
   ]
  },
  {
   "cell_type": "markdown",
   "id": "1SRsLxHifYay",
   "metadata": {
    "id": "1SRsLxHifYay",
    "slideshow": {
     "slide_type": "fragment"
    }
   },
   "source": [
    "#### Model 1: Decision Tree"
   ]
  },
  {
   "cell_type": "code",
   "execution_count": 30,
   "id": "QR-YifGMfcay",
   "metadata": {
    "colab": {
     "base_uri": "https://localhost:8080/"
    },
    "id": "QR-YifGMfcay",
    "outputId": "adf0ae95-1f7a-4a4d-bad1-f8fcd29c48f3",
    "slideshow": {
     "slide_type": "fragment"
    }
   },
   "outputs": [],
   "source": [
    "from sklearn.tree import DecisionTreeRegressor\n",
    "\n",
    "dt_model = DecisionTreeRegressor(random_state=2)\n",
    "dt_model.fit(X_train, y_train)\n",
    "dt_test_predict = dt_model.predict(X_test)"
   ]
  },
  {
   "cell_type": "markdown",
   "id": "81tUSNx8elap",
   "metadata": {
    "id": "81tUSNx8elap",
    "slideshow": {
     "slide_type": "subslide"
    }
   },
   "source": [
    "#### Model 2: Random Forest Regressor"
   ]
  },
  {
   "cell_type": "code",
   "execution_count": 37,
   "id": "ecc7b04e-c6c8-4012-8c90-5807cf2b00c0",
   "metadata": {
    "colab": {
     "base_uri": "https://localhost:8080/"
    },
    "id": "ecc7b04e-c6c8-4012-8c90-5807cf2b00c0",
    "outputId": "1d6d1620-e8ea-46db-cf9c-59fc5870e99b",
    "slideshow": {
     "slide_type": "fragment"
    }
   },
   "outputs": [],
   "source": [
    "from sklearn.ensemble import RandomForestRegressor\n",
    "\n",
    "rf_model = RandomForestRegressor()\n",
    "rf_model.fit(X_train, y_train)\n",
    "rf_test_predict = rf_model.predict(X_test)"
   ]
  },
  {
   "cell_type": "markdown",
   "id": "15791b0f-fe05-4423-b476-76824558fd98",
   "metadata": {
    "id": "15791b0f-fe05-4423-b476-76824558fd98",
    "slideshow": {
     "slide_type": "slide"
    }
   },
   "source": [
    "##  Part 5: Pengujian Model"
   ]
  },
  {
   "cell_type": "markdown",
   "id": "e06d18cd",
   "metadata": {
    "slideshow": {
     "slide_type": "fragment"
    }
   },
   "source": [
    "menampilkan lima list pertama harga emas `y_test`"
   ]
  },
  {
   "cell_type": "code",
   "execution_count": 32,
   "id": "mHbirJ13rh8E",
   "metadata": {
    "colab": {
     "base_uri": "https://localhost:8080/"
    },
    "id": "mHbirJ13rh8E",
    "outputId": "6c20816c-21a4-4544-ae8c-d1fcc18a519d",
    "slideshow": {
     "slide_type": "fragment"
    }
   },
   "outputs": [
    {
     "data": {
      "text/plain": [
       "[168.020004, 81.230003, 112.32, 127.589996, 119.620003]"
      ]
     },
     "execution_count": 32,
     "metadata": {},
     "output_type": "execute_result"
    }
   ],
   "source": [
    "list(y_test[:5])"
   ]
  },
  {
   "cell_type": "markdown",
   "id": "33f996b7",
   "metadata": {
    "slideshow": {
     "slide_type": "fragment"
    }
   },
   "source": [
    "menampilkan hasil prediksi harga emas"
   ]
  },
  {
   "cell_type": "code",
   "execution_count": 33,
   "id": "b6f5SoOUs40f",
   "metadata": {
    "colab": {
     "base_uri": "https://localhost:8080/"
    },
    "id": "b6f5SoOUs40f",
    "outputId": "2dfc64d8-a5f5-4a84-df7b-a7989d3c3327",
    "slideshow": {
     "slide_type": "fragment"
    }
   },
   "outputs": [
    {
     "name": "stdout",
     "output_type": "stream",
     "text": [
      "Prediksi DecisionTree: [168.5       86.089996 110.57     127.550003 121.730003]\n",
      "Prediksi RandomForest: [168.4956989   82.1989997  114.40779983 127.66670114 120.97320139]\n"
     ]
    }
   ],
   "source": [
    "print(\"Prediksi DecisionTree:\", dt_test_predict[:5])\n",
    "print(\"Prediksi RandomForest:\", rf_test_predict[:5])"
   ]
  },
  {
   "cell_type": "markdown",
   "id": "76ba434a",
   "metadata": {
    "slideshow": {
     "slide_type": "subslide"
    }
   },
   "source": [
    "#### a. MAE (Mean Absolute Error)"
   ]
  },
  {
   "cell_type": "code",
   "execution_count": 34,
   "id": "a7d20b0a",
   "metadata": {
    "slideshow": {
     "slide_type": "fragment"
    }
   },
   "outputs": [
    {
     "name": "stdout",
     "output_type": "stream",
     "text": [
      "MAE y_test untuk model DecisionTree: 1.6718780581395347\n",
      "MAE y_test untuk model RandomForest: 1.2989864630523265\n"
     ]
    }
   ],
   "source": [
    "from sklearn.metrics import mean_absolute_error\n",
    "\n",
    "dt_test_mae = mean_absolute_error(dt_test_predict, y_test)\n",
    "rf_test_mae = mean_absolute_error(rf_test_predict, y_test)\n",
    "\n",
    "print(\"MAE y_test untuk model DecisionTree: {}\".format(dt_test_mae))\n",
    "print(\"MAE y_test untuk model RandomForest: {}\".format(rf_test_mae))"
   ]
  },
  {
   "cell_type": "markdown",
   "id": "750fd26b",
   "metadata": {
    "slideshow": {
     "slide_type": "subslide"
    }
   },
   "source": [
    "#### b. Metrics (Skor Akurasi)"
   ]
  },
  {
   "cell_type": "code",
   "execution_count": 35,
   "id": "nZTFhmastJxL",
   "metadata": {
    "colab": {
     "base_uri": "https://localhost:8080/"
    },
    "id": "nZTFhmastJxL",
    "outputId": "02810a18-060a-4edd-acd1-f80885e4f4fb",
    "slideshow": {
     "slide_type": "fragment"
    }
   },
   "outputs": [
    {
     "name": "stdout",
     "output_type": "stream",
     "text": [
      "Akurasi prediksi DecisionTree: 0.97030613469304\n",
      "Akurasi prediksi RandomForest: 0.9888382277428257\n"
     ]
    }
   ],
   "source": [
    "from sklearn import metrics\n",
    "\n",
    "dt_error_score = metrics.r2_score(y_test, dt_test_predict)\n",
    "rf_error_score = metrics.r2_score(y_test, rf_test_predict)\n",
    "\n",
    "print(\"Akurasi prediksi DecisionTree:\", dt_error_score)\n",
    "print(\"Akurasi prediksi RandomForest:\", rf_error_score)"
   ]
  },
  {
   "cell_type": "code",
   "execution_count": 36,
   "id": "527c157f",
   "metadata": {},
   "outputs": [],
   "source": [
    "from traitlets.config.manager import BaseJSONConfigManager\n",
    "from pathlib import Path\n",
    "path = Path.home() / \".jupyter\" / \"nbconfig\"\n",
    "cm = BaseJSONConfigManager(config_dir=str(path))\n",
    "tmp = cm.update(\n",
    "        \"rise\",\n",
    "        {\n",
    "            \"scroll\": True,\n",
    "        }\n",
    "    )"
   ]
  }
 ],
 "metadata": {
  "colab": {
   "provenance": [],
   "toc_visible": true
  },
  "kernelspec": {
   "display_name": "Python 3 (ipykernel)",
   "language": "python",
   "name": "python3"
  },
  "language_info": {
   "codemirror_mode": {
    "name": "ipython",
    "version": 3
   },
   "file_extension": ".py",
   "mimetype": "text/x-python",
   "name": "python",
   "nbconvert_exporter": "python",
   "pygments_lexer": "ipython3",
   "version": "3.10.3"
  }
 },
 "nbformat": 4,
 "nbformat_minor": 5
}
