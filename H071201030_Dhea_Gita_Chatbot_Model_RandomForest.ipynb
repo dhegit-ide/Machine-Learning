{
  "cells": [
    {
      "cell_type": "markdown",
      "metadata": {
        "id": "view-in-github",
        "colab_type": "text"
      },
      "source": [
        "<a href=\"https://colab.research.google.com/github/dhegit-ide/Machine-Learning/blob/main/H071201030_Dhea_Gita_Chatbot_Model_RandomForest.ipynb\" target=\"_parent\"><img src=\"https://colab.research.google.com/assets/colab-badge.svg\" alt=\"Open In Colab\"/></a>"
      ]
    },
    {
      "cell_type": "markdown",
      "id": "1aa5911d",
      "metadata": {
        "id": "1aa5911d"
      },
      "source": [
        "# Chatbot AI Star Wars Menggunakan Model RandomForest\n",
        "\n",
        "\n",
        "H071201030 Dhea Gita\n",
        "\n",
        "2022"
      ]
    },
    {
      "cell_type": "markdown",
      "id": "98724b2c",
      "metadata": {
        "id": "98724b2c"
      },
      "source": [
        "### Deskripsi Data\n",
        "\n",
        "Chatbot sangat membantu organisasi bisnis dan juga pelanggan. Mayoritas orang lebih suka berbicara langsung dari *chatbox* daripada menelepon pusat layanan. Pada tugas UAS ini saya akan membangun proyek yang menarik di Chatbot. Saya akan mengimplementasikan chatbot dari awal yang dapat memahami apa yang dibicarakan pengguna dan memberikan respons yang sesuai. Chatbot hanyalah perangkat lunak cerdas yang dapat berinteraksi dan berkomunikasi dengan orang-orang seperti manusia. \n",
        "\n",
        "Dalam proyek ini, [dataset](https://www.kaggle.com/datasets/aslanahmedov/star-wars-chat-bot) yang digunakan untuk membuat AI Chatbot difokuskan untuk The Star Wars Cinematic Universe dan mencoba melatihnya sedemikian rupa sehingga dapat menjawab beberapa pertanyaan dasar tentang Star Wars."
      ]
    },
    {
      "cell_type": "markdown",
      "id": "e021c573",
      "metadata": {
        "id": "e021c573"
      },
      "source": [
        "### Data Fields\n",
        "\n",
        "Jenis file yang digunakan adalah `json`, dengan isi sebagai berikut:\n",
        "* **intents** - list data chat\n",
        "* **tag** - kategori chat\n",
        "* **patterns** - pola chat yang mungkin diberikan user\n",
        "* **responses** - kumpulan jawaban yang dipilih random untuk merespon user"
      ]
    },
    {
      "cell_type": "markdown",
      "id": "03b705d5",
      "metadata": {
        "id": "03b705d5"
      },
      "source": [
        "### Objektif\n",
        "\n",
        "* Part 1: Persiapan Dataset\n",
        "* Part 2: Preprosesing Data\n",
        "* Part 3: Split Dataset Menjadi Data `test` dan `train`\n",
        "* Part 4: Membangun dan Menguji Model\n",
        "* Part 5: Pengaplikasian Model pada Chatbot"
      ]
    },
    {
      "cell_type": "markdown",
      "id": "9c1051c0",
      "metadata": {
        "id": "9c1051c0"
      },
      "source": [
        "### Yang diperlukan\n",
        "\n",
        "* Python libraries: `pandas`, `numpy`, `scikit-learn`, `json`\n",
        "* Data File: `starwarsintents.json`"
      ]
    },
    {
      "cell_type": "markdown",
      "id": "28c06155",
      "metadata": {
        "id": "28c06155"
      },
      "source": [
        "# Part 1: Persiapan Dataset"
      ]
    },
    {
      "cell_type": "markdown",
      "id": "87babf8f",
      "metadata": {
        "id": "87babf8f"
      },
      "source": [
        "mengambil dataset menggunakan API Kaggle"
      ]
    },
    {
      "cell_type": "code",
      "execution_count": null,
      "id": "58d4dbe9",
      "metadata": {
        "id": "58d4dbe9",
        "outputId": "9996860e-e9d6-4889-ffd5-f8019e6bbba9"
      },
      "outputs": [
        {
          "name": "stdout",
          "output_type": "stream",
          "text": [
            "star-wars-chat-bot.zip: Skipping, found more recently modified local copy (use --force to force download)\n"
          ]
        }
      ],
      "source": [
        "import os\n",
        "from kaggle.api.kaggle_api_extended import KaggleApi\n",
        "\n",
        "os.environ['KAGGLE_USERNAME'] = 'dheagita'\n",
        "os.environ['KAGGLE_KEY'] = '3bf3305f51e13783ce4bffb42d995548'\n",
        "\n",
        "!kaggle datasets download -d aslanahmedov/star-wars-chat-bot"
      ]
    },
    {
      "cell_type": "markdown",
      "id": "0b441790",
      "metadata": {
        "id": "0b441790"
      },
      "source": [
        "mengekstrak file `.zip`"
      ]
    },
    {
      "cell_type": "code",
      "execution_count": null,
      "id": "e55c79ca",
      "metadata": {
        "id": "e55c79ca"
      },
      "outputs": [],
      "source": [
        "from zipfile import ZipFile\n",
        "  \n",
        "# loading the temp.zip and creating a zip object\n",
        "with ZipFile(\"star-wars-chat-bot.zip\", 'r') as zObject:\n",
        "  \n",
        "    # Extracting all the members of the zip \n",
        "    # into a specific location.\n",
        "    zObject.extractall(path=\"./\")"
      ]
    },
    {
      "cell_type": "markdown",
      "id": "c6acfb25",
      "metadata": {
        "id": "c6acfb25"
      },
      "source": [
        "class untuk mengonversi data `json` ke bentuk `DataFrame`"
      ]
    },
    {
      "cell_type": "code",
      "execution_count": 1,
      "id": "0324ba40",
      "metadata": {
        "id": "0324ba40"
      },
      "outputs": [],
      "source": [
        "import json\n",
        "import pandas as pd\n",
        "from random import choice\n",
        "\n",
        "class JSONParser:\n",
        "    def __init__(self):\n",
        "        self.text = []\n",
        "        self.intents = []\n",
        "        self.responses = {}\n",
        "\n",
        "    def parse(self, json_path):\n",
        "        with open(json_path) as data_file:\n",
        "            self.data = json.load(data_file)\n",
        "\n",
        "        for intent in self.data['intents']:\n",
        "            for pattern in intent['patterns']:\n",
        "                self.text.append(pattern)\n",
        "                self.intents.append(intent['tag'])\n",
        "            for resp in intent['responses']:\n",
        "                if intent['tag'] in self.responses.keys():\n",
        "                    self.responses[intent['tag']].append(resp)\n",
        "                else:\n",
        "                    self.responses[intent['tag']] = [resp]\n",
        "\n",
        "        self.df = pd.DataFrame({'text_input': self.text,\n",
        "                                'intents': self.intents})\n",
        "\n",
        "        print(\n",
        "            f\"[INFO] Data JSON converted to DataFrame with shape : {self.df.shape}\")\n",
        "\n",
        "    def get_dataframe(self):\n",
        "        return self.df\n",
        "\n",
        "    def get_response(self, intent):\n",
        "        return choice(self.responses[intent])"
      ]
    },
    {
      "cell_type": "markdown",
      "id": "854351dc",
      "metadata": {
        "id": "854351dc"
      },
      "source": [
        "load data json ke dataframe"
      ]
    },
    {
      "cell_type": "code",
      "execution_count": 2,
      "id": "1136f1fb",
      "metadata": {
        "colab": {
          "base_uri": "https://localhost:8080/"
        },
        "id": "1136f1fb",
        "outputId": "715af5b9-0728-4f49-c17d-10156cb75645"
      },
      "outputs": [
        {
          "output_type": "stream",
          "name": "stdout",
          "text": [
            "[INFO] Data JSON converted to DataFrame with shape : (97, 2)\n"
          ]
        }
      ],
      "source": [
        "path = \"./starwarsintents.json\"\n",
        "jp = JSONParser()\n",
        "jp.parse(path)\n",
        "df = jp.get_dataframe()"
      ]
    },
    {
      "cell_type": "markdown",
      "id": "50da06a9",
      "metadata": {
        "id": "50da06a9"
      },
      "source": [
        "menampilkan data `df`"
      ]
    },
    {
      "cell_type": "code",
      "execution_count": 3,
      "id": "97f05531",
      "metadata": {
        "colab": {
          "base_uri": "https://localhost:8080/",
          "height": 424
        },
        "id": "97f05531",
        "outputId": "2c181d6f-1715-44a2-e7f4-1c911962e40b"
      },
      "outputs": [
        {
          "output_type": "execute_result",
          "data": {
            "text/plain": [
              "                  text_input   intents\n",
              "0                         Hi  greeting\n",
              "1                        Hey  greeting\n",
              "2                How are you  greeting\n",
              "3           Is anyone there?  greeting\n",
              "4                      Hello  greeting\n",
              "..                       ...       ...\n",
              "92          Who is Mr. ASLAN    myself\n",
              "93         Mr. ASLAN profile    myself\n",
              "94        Mr. ASLAN details.    myself\n",
              "95          Tell me a story?   stories\n",
              "96  Can you tell me a story.   stories\n",
              "\n",
              "[97 rows x 2 columns]"
            ],
            "text/html": [
              "\n",
              "  <div id=\"df-9784bda2-b056-41f4-b7fa-aab774a8df45\">\n",
              "    <div class=\"colab-df-container\">\n",
              "      <div>\n",
              "<style scoped>\n",
              "    .dataframe tbody tr th:only-of-type {\n",
              "        vertical-align: middle;\n",
              "    }\n",
              "\n",
              "    .dataframe tbody tr th {\n",
              "        vertical-align: top;\n",
              "    }\n",
              "\n",
              "    .dataframe thead th {\n",
              "        text-align: right;\n",
              "    }\n",
              "</style>\n",
              "<table border=\"1\" class=\"dataframe\">\n",
              "  <thead>\n",
              "    <tr style=\"text-align: right;\">\n",
              "      <th></th>\n",
              "      <th>text_input</th>\n",
              "      <th>intents</th>\n",
              "    </tr>\n",
              "  </thead>\n",
              "  <tbody>\n",
              "    <tr>\n",
              "      <th>0</th>\n",
              "      <td>Hi</td>\n",
              "      <td>greeting</td>\n",
              "    </tr>\n",
              "    <tr>\n",
              "      <th>1</th>\n",
              "      <td>Hey</td>\n",
              "      <td>greeting</td>\n",
              "    </tr>\n",
              "    <tr>\n",
              "      <th>2</th>\n",
              "      <td>How are you</td>\n",
              "      <td>greeting</td>\n",
              "    </tr>\n",
              "    <tr>\n",
              "      <th>3</th>\n",
              "      <td>Is anyone there?</td>\n",
              "      <td>greeting</td>\n",
              "    </tr>\n",
              "    <tr>\n",
              "      <th>4</th>\n",
              "      <td>Hello</td>\n",
              "      <td>greeting</td>\n",
              "    </tr>\n",
              "    <tr>\n",
              "      <th>...</th>\n",
              "      <td>...</td>\n",
              "      <td>...</td>\n",
              "    </tr>\n",
              "    <tr>\n",
              "      <th>92</th>\n",
              "      <td>Who is Mr. ASLAN</td>\n",
              "      <td>myself</td>\n",
              "    </tr>\n",
              "    <tr>\n",
              "      <th>93</th>\n",
              "      <td>Mr. ASLAN profile</td>\n",
              "      <td>myself</td>\n",
              "    </tr>\n",
              "    <tr>\n",
              "      <th>94</th>\n",
              "      <td>Mr. ASLAN details.</td>\n",
              "      <td>myself</td>\n",
              "    </tr>\n",
              "    <tr>\n",
              "      <th>95</th>\n",
              "      <td>Tell me a story?</td>\n",
              "      <td>stories</td>\n",
              "    </tr>\n",
              "    <tr>\n",
              "      <th>96</th>\n",
              "      <td>Can you tell me a story.</td>\n",
              "      <td>stories</td>\n",
              "    </tr>\n",
              "  </tbody>\n",
              "</table>\n",
              "<p>97 rows × 2 columns</p>\n",
              "</div>\n",
              "      <button class=\"colab-df-convert\" onclick=\"convertToInteractive('df-9784bda2-b056-41f4-b7fa-aab774a8df45')\"\n",
              "              title=\"Convert this dataframe to an interactive table.\"\n",
              "              style=\"display:none;\">\n",
              "        \n",
              "  <svg xmlns=\"http://www.w3.org/2000/svg\" height=\"24px\"viewBox=\"0 0 24 24\"\n",
              "       width=\"24px\">\n",
              "    <path d=\"M0 0h24v24H0V0z\" fill=\"none\"/>\n",
              "    <path d=\"M18.56 5.44l.94 2.06.94-2.06 2.06-.94-2.06-.94-.94-2.06-.94 2.06-2.06.94zm-11 1L8.5 8.5l.94-2.06 2.06-.94-2.06-.94L8.5 2.5l-.94 2.06-2.06.94zm10 10l.94 2.06.94-2.06 2.06-.94-2.06-.94-.94-2.06-.94 2.06-2.06.94z\"/><path d=\"M17.41 7.96l-1.37-1.37c-.4-.4-.92-.59-1.43-.59-.52 0-1.04.2-1.43.59L10.3 9.45l-7.72 7.72c-.78.78-.78 2.05 0 2.83L4 21.41c.39.39.9.59 1.41.59.51 0 1.02-.2 1.41-.59l7.78-7.78 2.81-2.81c.8-.78.8-2.07 0-2.86zM5.41 20L4 18.59l7.72-7.72 1.47 1.35L5.41 20z\"/>\n",
              "  </svg>\n",
              "      </button>\n",
              "      \n",
              "  <style>\n",
              "    .colab-df-container {\n",
              "      display:flex;\n",
              "      flex-wrap:wrap;\n",
              "      gap: 12px;\n",
              "    }\n",
              "\n",
              "    .colab-df-convert {\n",
              "      background-color: #E8F0FE;\n",
              "      border: none;\n",
              "      border-radius: 50%;\n",
              "      cursor: pointer;\n",
              "      display: none;\n",
              "      fill: #1967D2;\n",
              "      height: 32px;\n",
              "      padding: 0 0 0 0;\n",
              "      width: 32px;\n",
              "    }\n",
              "\n",
              "    .colab-df-convert:hover {\n",
              "      background-color: #E2EBFA;\n",
              "      box-shadow: 0px 1px 2px rgba(60, 64, 67, 0.3), 0px 1px 3px 1px rgba(60, 64, 67, 0.15);\n",
              "      fill: #174EA6;\n",
              "    }\n",
              "\n",
              "    [theme=dark] .colab-df-convert {\n",
              "      background-color: #3B4455;\n",
              "      fill: #D2E3FC;\n",
              "    }\n",
              "\n",
              "    [theme=dark] .colab-df-convert:hover {\n",
              "      background-color: #434B5C;\n",
              "      box-shadow: 0px 1px 3px 1px rgba(0, 0, 0, 0.15);\n",
              "      filter: drop-shadow(0px 1px 2px rgba(0, 0, 0, 0.3));\n",
              "      fill: #FFFFFF;\n",
              "    }\n",
              "  </style>\n",
              "\n",
              "      <script>\n",
              "        const buttonEl =\n",
              "          document.querySelector('#df-9784bda2-b056-41f4-b7fa-aab774a8df45 button.colab-df-convert');\n",
              "        buttonEl.style.display =\n",
              "          google.colab.kernel.accessAllowed ? 'block' : 'none';\n",
              "\n",
              "        async function convertToInteractive(key) {\n",
              "          const element = document.querySelector('#df-9784bda2-b056-41f4-b7fa-aab774a8df45');\n",
              "          const dataTable =\n",
              "            await google.colab.kernel.invokeFunction('convertToInteractive',\n",
              "                                                     [key], {});\n",
              "          if (!dataTable) return;\n",
              "\n",
              "          const docLinkHtml = 'Like what you see? Visit the ' +\n",
              "            '<a target=\"_blank\" href=https://colab.research.google.com/notebooks/data_table.ipynb>data table notebook</a>'\n",
              "            + ' to learn more about interactive tables.';\n",
              "          element.innerHTML = '';\n",
              "          dataTable['output_type'] = 'display_data';\n",
              "          await google.colab.output.renderOutput(dataTable, element);\n",
              "          const docLink = document.createElement('div');\n",
              "          docLink.innerHTML = docLinkHtml;\n",
              "          element.appendChild(docLink);\n",
              "        }\n",
              "      </script>\n",
              "    </div>\n",
              "  </div>\n",
              "  "
            ]
          },
          "metadata": {},
          "execution_count": 3
        }
      ],
      "source": [
        "df"
      ]
    },
    {
      "cell_type": "markdown",
      "id": "bd59267e",
      "metadata": {
        "id": "bd59267e"
      },
      "source": [
        "menampilkan info data"
      ]
    },
    {
      "cell_type": "code",
      "execution_count": 4,
      "id": "3d59711b",
      "metadata": {
        "colab": {
          "base_uri": "https://localhost:8080/"
        },
        "id": "3d59711b",
        "outputId": "ae9bab29-0d54-434e-ac8b-23c525cdc2de"
      },
      "outputs": [
        {
          "output_type": "stream",
          "name": "stdout",
          "text": [
            "<class 'pandas.core.frame.DataFrame'>\n",
            "RangeIndex: 97 entries, 0 to 96\n",
            "Data columns (total 2 columns):\n",
            " #   Column      Non-Null Count  Dtype \n",
            "---  ------      --------------  ----- \n",
            " 0   text_input  97 non-null     object\n",
            " 1   intents     97 non-null     object\n",
            "dtypes: object(2)\n",
            "memory usage: 1.6+ KB\n"
          ]
        }
      ],
      "source": [
        "df.info()"
      ]
    },
    {
      "cell_type": "markdown",
      "id": "0df4d76a",
      "metadata": {
        "id": "0df4d76a"
      },
      "source": [
        "# Part 2: Preprosesing Data"
      ]
    },
    {
      "cell_type": "markdown",
      "id": "a9721992",
      "metadata": {
        "id": "a9721992"
      },
      "source": [
        "* mengubah input menjadi *lower case*\n",
        "* menghilangkan tanda baca pada inputan"
      ]
    },
    {
      "cell_type": "code",
      "execution_count": 5,
      "id": "2d842d6d",
      "metadata": {
        "id": "2d842d6d"
      },
      "outputs": [],
      "source": [
        "def preprocess(chat):\n",
        "    chat = chat.lower()\n",
        "    tandabaca = tuple(string.punctuation)\n",
        "    chat = ''.join(ch for ch in chat if ch not in tandabaca)\n",
        "    return chat"
      ]
    },
    {
      "cell_type": "markdown",
      "id": "ba629dd4",
      "metadata": {
        "id": "ba629dd4"
      },
      "source": [
        "menambahkan kolom baru `text_input_prep`"
      ]
    },
    {
      "cell_type": "code",
      "execution_count": 6,
      "id": "a4160204",
      "metadata": {
        "id": "a4160204"
      },
      "outputs": [],
      "source": [
        "import string\n",
        "\n",
        "df['text_input_prep'] = df.text_input.apply(preprocess)"
      ]
    },
    {
      "cell_type": "markdown",
      "id": "bf3be38d",
      "metadata": {
        "id": "bf3be38d"
      },
      "source": [
        "menampilkan dataframe `df`"
      ]
    },
    {
      "cell_type": "code",
      "execution_count": 7,
      "id": "38a50fd2",
      "metadata": {
        "colab": {
          "base_uri": "https://localhost:8080/",
          "height": 424
        },
        "id": "38a50fd2",
        "outputId": "8d3c1503-4ddb-4d6f-a10c-1820e241e4a4"
      },
      "outputs": [
        {
          "output_type": "execute_result",
          "data": {
            "text/plain": [
              "                  text_input   intents          text_input_prep\n",
              "0                         Hi  greeting                       hi\n",
              "1                        Hey  greeting                      hey\n",
              "2                How are you  greeting              how are you\n",
              "3           Is anyone there?  greeting          is anyone there\n",
              "4                      Hello  greeting                    hello\n",
              "..                       ...       ...                      ...\n",
              "92          Who is Mr. ASLAN    myself          who is mr aslan\n",
              "93         Mr. ASLAN profile    myself         mr aslan profile\n",
              "94        Mr. ASLAN details.    myself         mr aslan details\n",
              "95          Tell me a story?   stories          tell me a story\n",
              "96  Can you tell me a story.   stories  can you tell me a story\n",
              "\n",
              "[97 rows x 3 columns]"
            ],
            "text/html": [
              "\n",
              "  <div id=\"df-77ada918-2a83-4f97-a99c-c1137b88645e\">\n",
              "    <div class=\"colab-df-container\">\n",
              "      <div>\n",
              "<style scoped>\n",
              "    .dataframe tbody tr th:only-of-type {\n",
              "        vertical-align: middle;\n",
              "    }\n",
              "\n",
              "    .dataframe tbody tr th {\n",
              "        vertical-align: top;\n",
              "    }\n",
              "\n",
              "    .dataframe thead th {\n",
              "        text-align: right;\n",
              "    }\n",
              "</style>\n",
              "<table border=\"1\" class=\"dataframe\">\n",
              "  <thead>\n",
              "    <tr style=\"text-align: right;\">\n",
              "      <th></th>\n",
              "      <th>text_input</th>\n",
              "      <th>intents</th>\n",
              "      <th>text_input_prep</th>\n",
              "    </tr>\n",
              "  </thead>\n",
              "  <tbody>\n",
              "    <tr>\n",
              "      <th>0</th>\n",
              "      <td>Hi</td>\n",
              "      <td>greeting</td>\n",
              "      <td>hi</td>\n",
              "    </tr>\n",
              "    <tr>\n",
              "      <th>1</th>\n",
              "      <td>Hey</td>\n",
              "      <td>greeting</td>\n",
              "      <td>hey</td>\n",
              "    </tr>\n",
              "    <tr>\n",
              "      <th>2</th>\n",
              "      <td>How are you</td>\n",
              "      <td>greeting</td>\n",
              "      <td>how are you</td>\n",
              "    </tr>\n",
              "    <tr>\n",
              "      <th>3</th>\n",
              "      <td>Is anyone there?</td>\n",
              "      <td>greeting</td>\n",
              "      <td>is anyone there</td>\n",
              "    </tr>\n",
              "    <tr>\n",
              "      <th>4</th>\n",
              "      <td>Hello</td>\n",
              "      <td>greeting</td>\n",
              "      <td>hello</td>\n",
              "    </tr>\n",
              "    <tr>\n",
              "      <th>...</th>\n",
              "      <td>...</td>\n",
              "      <td>...</td>\n",
              "      <td>...</td>\n",
              "    </tr>\n",
              "    <tr>\n",
              "      <th>92</th>\n",
              "      <td>Who is Mr. ASLAN</td>\n",
              "      <td>myself</td>\n",
              "      <td>who is mr aslan</td>\n",
              "    </tr>\n",
              "    <tr>\n",
              "      <th>93</th>\n",
              "      <td>Mr. ASLAN profile</td>\n",
              "      <td>myself</td>\n",
              "      <td>mr aslan profile</td>\n",
              "    </tr>\n",
              "    <tr>\n",
              "      <th>94</th>\n",
              "      <td>Mr. ASLAN details.</td>\n",
              "      <td>myself</td>\n",
              "      <td>mr aslan details</td>\n",
              "    </tr>\n",
              "    <tr>\n",
              "      <th>95</th>\n",
              "      <td>Tell me a story?</td>\n",
              "      <td>stories</td>\n",
              "      <td>tell me a story</td>\n",
              "    </tr>\n",
              "    <tr>\n",
              "      <th>96</th>\n",
              "      <td>Can you tell me a story.</td>\n",
              "      <td>stories</td>\n",
              "      <td>can you tell me a story</td>\n",
              "    </tr>\n",
              "  </tbody>\n",
              "</table>\n",
              "<p>97 rows × 3 columns</p>\n",
              "</div>\n",
              "      <button class=\"colab-df-convert\" onclick=\"convertToInteractive('df-77ada918-2a83-4f97-a99c-c1137b88645e')\"\n",
              "              title=\"Convert this dataframe to an interactive table.\"\n",
              "              style=\"display:none;\">\n",
              "        \n",
              "  <svg xmlns=\"http://www.w3.org/2000/svg\" height=\"24px\"viewBox=\"0 0 24 24\"\n",
              "       width=\"24px\">\n",
              "    <path d=\"M0 0h24v24H0V0z\" fill=\"none\"/>\n",
              "    <path d=\"M18.56 5.44l.94 2.06.94-2.06 2.06-.94-2.06-.94-.94-2.06-.94 2.06-2.06.94zm-11 1L8.5 8.5l.94-2.06 2.06-.94-2.06-.94L8.5 2.5l-.94 2.06-2.06.94zm10 10l.94 2.06.94-2.06 2.06-.94-2.06-.94-.94-2.06-.94 2.06-2.06.94z\"/><path d=\"M17.41 7.96l-1.37-1.37c-.4-.4-.92-.59-1.43-.59-.52 0-1.04.2-1.43.59L10.3 9.45l-7.72 7.72c-.78.78-.78 2.05 0 2.83L4 21.41c.39.39.9.59 1.41.59.51 0 1.02-.2 1.41-.59l7.78-7.78 2.81-2.81c.8-.78.8-2.07 0-2.86zM5.41 20L4 18.59l7.72-7.72 1.47 1.35L5.41 20z\"/>\n",
              "  </svg>\n",
              "      </button>\n",
              "      \n",
              "  <style>\n",
              "    .colab-df-container {\n",
              "      display:flex;\n",
              "      flex-wrap:wrap;\n",
              "      gap: 12px;\n",
              "    }\n",
              "\n",
              "    .colab-df-convert {\n",
              "      background-color: #E8F0FE;\n",
              "      border: none;\n",
              "      border-radius: 50%;\n",
              "      cursor: pointer;\n",
              "      display: none;\n",
              "      fill: #1967D2;\n",
              "      height: 32px;\n",
              "      padding: 0 0 0 0;\n",
              "      width: 32px;\n",
              "    }\n",
              "\n",
              "    .colab-df-convert:hover {\n",
              "      background-color: #E2EBFA;\n",
              "      box-shadow: 0px 1px 2px rgba(60, 64, 67, 0.3), 0px 1px 3px 1px rgba(60, 64, 67, 0.15);\n",
              "      fill: #174EA6;\n",
              "    }\n",
              "\n",
              "    [theme=dark] .colab-df-convert {\n",
              "      background-color: #3B4455;\n",
              "      fill: #D2E3FC;\n",
              "    }\n",
              "\n",
              "    [theme=dark] .colab-df-convert:hover {\n",
              "      background-color: #434B5C;\n",
              "      box-shadow: 0px 1px 3px 1px rgba(0, 0, 0, 0.15);\n",
              "      filter: drop-shadow(0px 1px 2px rgba(0, 0, 0, 0.3));\n",
              "      fill: #FFFFFF;\n",
              "    }\n",
              "  </style>\n",
              "\n",
              "      <script>\n",
              "        const buttonEl =\n",
              "          document.querySelector('#df-77ada918-2a83-4f97-a99c-c1137b88645e button.colab-df-convert');\n",
              "        buttonEl.style.display =\n",
              "          google.colab.kernel.accessAllowed ? 'block' : 'none';\n",
              "\n",
              "        async function convertToInteractive(key) {\n",
              "          const element = document.querySelector('#df-77ada918-2a83-4f97-a99c-c1137b88645e');\n",
              "          const dataTable =\n",
              "            await google.colab.kernel.invokeFunction('convertToInteractive',\n",
              "                                                     [key], {});\n",
              "          if (!dataTable) return;\n",
              "\n",
              "          const docLinkHtml = 'Like what you see? Visit the ' +\n",
              "            '<a target=\"_blank\" href=https://colab.research.google.com/notebooks/data_table.ipynb>data table notebook</a>'\n",
              "            + ' to learn more about interactive tables.';\n",
              "          element.innerHTML = '';\n",
              "          dataTable['output_type'] = 'display_data';\n",
              "          await google.colab.output.renderOutput(dataTable, element);\n",
              "          const docLink = document.createElement('div');\n",
              "          docLink.innerHTML = docLinkHtml;\n",
              "          element.appendChild(docLink);\n",
              "        }\n",
              "      </script>\n",
              "    </div>\n",
              "  </div>\n",
              "  "
            ]
          },
          "metadata": {},
          "execution_count": 7
        }
      ],
      "source": [
        "df"
      ]
    },
    {
      "cell_type": "markdown",
      "id": "f23801b2",
      "metadata": {
        "id": "f23801b2"
      },
      "source": [
        "menampilkan info data lagi"
      ]
    },
    {
      "cell_type": "code",
      "execution_count": 8,
      "id": "36efe12e",
      "metadata": {
        "colab": {
          "base_uri": "https://localhost:8080/"
        },
        "id": "36efe12e",
        "outputId": "2ccbc9e3-5fe4-4d07-fbb7-a27cf1dd9cb1"
      },
      "outputs": [
        {
          "output_type": "stream",
          "name": "stdout",
          "text": [
            "<class 'pandas.core.frame.DataFrame'>\n",
            "RangeIndex: 97 entries, 0 to 96\n",
            "Data columns (total 3 columns):\n",
            " #   Column           Non-Null Count  Dtype \n",
            "---  ------           --------------  ----- \n",
            " 0   text_input       97 non-null     object\n",
            " 1   intents          97 non-null     object\n",
            " 2   text_input_prep  97 non-null     object\n",
            "dtypes: object(3)\n",
            "memory usage: 2.4+ KB\n"
          ]
        }
      ],
      "source": [
        "df.info()"
      ]
    },
    {
      "cell_type": "markdown",
      "id": "b0599d0f",
      "metadata": {
        "id": "b0599d0f"
      },
      "source": [
        "# Part 3: Split Dataset Menjadi Data `test` dan `train`"
      ]
    },
    {
      "cell_type": "markdown",
      "id": "12323692",
      "metadata": {
        "id": "12323692"
      },
      "source": [
        "memilih feature (X) dan target (Y)"
      ]
    },
    {
      "cell_type": "code",
      "execution_count": 9,
      "id": "7e2db232",
      "metadata": {
        "id": "7e2db232"
      },
      "outputs": [],
      "source": [
        "X = df.text_input_prep\n",
        "y = df.intents"
      ]
    },
    {
      "cell_type": "markdown",
      "id": "f4227639",
      "metadata": {
        "id": "f4227639"
      },
      "source": [
        "membagi dataset dengan rasio 20%:80%"
      ]
    },
    {
      "cell_type": "code",
      "execution_count": 10,
      "id": "f33020cf",
      "metadata": {
        "id": "f33020cf"
      },
      "outputs": [],
      "source": [
        "from sklearn.model_selection import train_test_split\n",
        "X_train, X_test, y_train, y_test = train_test_split(X, y, test_size=0.2, random_state=42)"
      ]
    },
    {
      "cell_type": "markdown",
      "id": "1948c5cc",
      "metadata": {
        "id": "1948c5cc"
      },
      "source": [
        "hasil pembagian dataset:"
      ]
    },
    {
      "cell_type": "code",
      "execution_count": 11,
      "id": "65cf4b27",
      "metadata": {
        "colab": {
          "base_uri": "https://localhost:8080/"
        },
        "id": "65cf4b27",
        "outputId": "ff83398e-c635-40a7-d9a9-e4b806621756"
      },
      "outputs": [
        {
          "output_type": "stream",
          "name": "stdout",
          "text": [
            "Jumlah data X_train: 77\n",
            "Jumlah data X_test: 20\n"
          ]
        }
      ],
      "source": [
        "print(\"Jumlah data X_train:\", len(X_train))\n",
        "print(\"Jumlah data X_test:\", len(X_test))"
      ]
    },
    {
      "cell_type": "markdown",
      "id": "97c2f664",
      "metadata": {
        "id": "97c2f664"
      },
      "source": [
        "# Part 4: Membangun dan Menguji Model"
      ]
    },
    {
      "cell_type": "markdown",
      "id": "dadc9971",
      "metadata": {
        "id": "dadc9971"
      },
      "source": [
        "* menggunakan model `RandomForestClassifier` \n",
        "* `CountVectorizer` agar dapat mengonversi string menjadi float\n",
        "* `pipeline` agar dapat menggunakan `CountVectorizer` ke model"
      ]
    },
    {
      "cell_type": "code",
      "execution_count": 12,
      "id": "82a9adbc",
      "metadata": {
        "id": "82a9adbc"
      },
      "outputs": [],
      "source": [
        "from sklearn.pipeline import make_pipeline\n",
        "from sklearn.feature_extraction.text import CountVectorizer\n",
        "from sklearn.ensemble import RandomForestClassifier\n",
        "\n",
        "pipeline = make_pipeline(CountVectorizer(), RandomForestClassifier())\n",
        "pipeline.fit(X_train, y_train)\n",
        "predictions = pipeline.predict(X_test)"
      ]
    },
    {
      "cell_type": "markdown",
      "id": "3ccb17da-329f-425f-8d32-0403ec46a9d4",
      "metadata": {
        "id": "3ccb17da-329f-425f-8d32-0403ec46a9d4"
      },
      "source": [
        "perbandingan data aktual dan hasil prediksi `y_test`"
      ]
    },
    {
      "cell_type": "code",
      "execution_count": 13,
      "id": "606b1e23-08bd-4b4f-896e-d9edd7b40d7e",
      "metadata": {
        "colab": {
          "base_uri": "https://localhost:8080/"
        },
        "id": "606b1e23-08bd-4b4f-896e-d9edd7b40d7e",
        "outputId": "f3ebc9e5-7098-408d-f436-e80d6a207139"
      },
      "outputs": [
        {
          "output_type": "stream",
          "name": "stdout",
          "text": [
            "Data Aktual\t: ['mission', 'Menu', 'myself', 'goodbye', 'funny', 'about me', 'jedi', 'Menu', 'goodbye', 'greeting']\n",
            "Hasil Prediksi\t: ['mission', 'tasks', 'myself', 'thanks', 'alive', 'about me', 'jedi', 'thanks', 'thanks', 'thanks']\n"
          ]
        }
      ],
      "source": [
        "print(\"Data Aktual\\t:\", list(y_test[:10]))\n",
        "print(\"Hasil Prediksi\\t:\", list(predictions[:10]))"
      ]
    },
    {
      "cell_type": "markdown",
      "id": "d8b9d815-d2bd-4b8d-bde8-fcded3aaac08",
      "metadata": {
        "id": "d8b9d815-d2bd-4b8d-bde8-fcded3aaac08"
      },
      "source": [
        "nilai akurasi model"
      ]
    },
    {
      "cell_type": "code",
      "execution_count": 14,
      "id": "148f6f8f",
      "metadata": {
        "colab": {
          "base_uri": "https://localhost:8080/"
        },
        "id": "148f6f8f",
        "outputId": "ed765cd3-3836-4b19-a239-3b59e4ac08ff"
      },
      "outputs": [
        {
          "output_type": "stream",
          "name": "stdout",
          "text": [
            "Akurasi: 0.55\n"
          ]
        }
      ],
      "source": [
        "accuracy = pipeline.score(X_test, y_test)\n",
        "print(\"Akurasi:\", accuracy)"
      ]
    },
    {
      "cell_type": "markdown",
      "id": "146306f7",
      "metadata": {
        "id": "146306f7"
      },
      "source": [
        "# Part 5: Pengaplikasian Model pada Chatbot"
      ]
    },
    {
      "cell_type": "code",
      "execution_count": 15,
      "id": "041d7a1d-0cf6-4c46-a6f4-d7a99d0b7fdf",
      "metadata": {
        "id": "041d7a1d-0cf6-4c46-a6f4-d7a99d0b7fdf"
      },
      "outputs": [],
      "source": [
        "def bot_response(chat, pipeline, jp):\n",
        "    chat = preprocess(chat)\n",
        "    res = pipeline.predict_proba([chat])\n",
        "    max_prob = max(res[0])\n",
        "    if max_prob < 0.2:\n",
        "        return \"Sorry, I don't understand what you're saying :(\", None\n",
        "    else:\n",
        "        max_id = np.argmax(res[0])\n",
        "        pred_tag = pipeline.classes_[max_id]\n",
        "        return jp.get_response(pred_tag), pred_tag"
      ]
    },
    {
      "cell_type": "code",
      "execution_count": 16,
      "id": "91b24063-2c2e-4618-a840-6651ac1e317a",
      "metadata": {
        "colab": {
          "base_uri": "https://localhost:8080/"
        },
        "id": "91b24063-2c2e-4618-a840-6651ac1e317a",
        "outputId": "a132e654-28f9-4efa-d9a1-e0684870d87c"
      },
      "outputs": [
        {
          "output_type": "stream",
          "name": "stdout",
          "text": [
            "[INFO] You are already connected to the Bot\n",
            "You >> Hey\n",
            "Bot >> Yes, I am here.\n",
            "You >> Hi\n",
            "Bot >> Thans does not \n",
            "You >> Yo\n",
            "Bot >> Ooooo Hello, looking for someone or something?\n",
            "You >> What you can do?\n",
            "Bot >> I can do whatever you asks me to do\n",
            "You >> wht u cn do?\n",
            "Bot >> Glad to help!\n",
            "You >> no\n",
            "Bot >> Any time!\n",
            "You >> wht u can do?\n",
            "Bot >> Right now i'm in developing stage as soon i'm developed, I can do everything\n",
            "You >> Are you alive?\n",
            "Bot >> No, i don't think so I need to do all this\n",
            "You >> do u alive?\n",
            "Bot >> No, i don't think so I need to do all this\n",
            "You >> can u run?\n",
            "Bot >> I'm in doubt about that\n",
            "You >> can u turu?\n",
            "Bot >> Right now i'm in developing stage as soon i'm developed, I can do everything\n",
            "You >> Do you serve drinks?\n",
            "Bot >> Ok our best optins: Fuzzy Tauntaun, Bloody Rancor, Jedi Mind Trick, T-16 Skyhopper, Yub Nub, Jet Juice, Hyperdrive, Rancor Beer.\n",
            "You >> Fuzzy Tauntaun\n",
            "Bot >> Happy to help!\n",
            "You >> help\n",
            "Bot >> You are at the address.\n",
            "You >> jedi\n",
            "Bot >> Luke Skywalker, Yoda, Obi-Wan Kenobi, Anakin Skywalker, Qui-Gon Jinn, Mace Windu, Ahsoka Tano, Plo Koon, Aalya Secura, Kit Fisto.\n",
            "You >> Tell me top 10 jedi\n",
            "Bot >> I will advise you to look for Luke Skywalker, Yoda, Obi-Wan Kenobi, Anakin Skywalker, Qui-Gon Jinn, Mace Windu, Ahsoka Tano, Plo Koon, Aalya Secura, Kit Fisto.\n",
            "You >> I need a help of sith\n",
            "Bot >> I will advise you to look for Darth Vader, Darth Plagueis, Darth Revan, Darth Traya, Darth Sidious, Darth Maul, Ulic Qel-Droma, Asajj Ventress, Kylo Ren, Marka Ragnos.\n",
            "You >> can you joking?\n",
            "Bot >> I can do whatever you asks me to do\n",
            "You >> tell me a joke\n",
            "Bot >> Have you tried the gluten-free Wookiee treats? No, but I heard they are a little Chewy.\n",
            "You >> identify me\n",
            "Bot >> Sorry I can't tell that in public, maybe you are jedi\n",
            "You >> tell me a story\n",
            "Bot >> It would be too long for me to speak.\n",
            "You >> bye\n",
            "Bot >> Thans does not \n",
            "You >> ok bye\n",
            "Bot >> Any time!\n",
            "You >> goodbye\n",
            "Bot >> No worries!\n",
            "You >> ciao\n",
            "Bot >> See next time.\n"
          ]
        }
      ],
      "source": [
        "import numpy as np\n",
        "\n",
        "print(\"[INFO] You are already connected to the Bot\")\n",
        "telwhile True:\n",
        "    chat = input(\"You >> \")\n",
        "    res, tag = bot_response(chat,pipeline,jp)\n",
        "    print(f\"Bot >> {res}\")\n",
        "    if tag == \"goodbye\":\n",
        "        break"
      ]
    }
  ],
  "metadata": {
    "celltoolbar": "Slideshow",
    "kernelspec": {
      "display_name": "Python 3 (ipykernel)",
      "language": "python",
      "name": "python3"
    },
    "language_info": {
      "codemirror_mode": {
        "name": "ipython",
        "version": 3
      },
      "file_extension": ".py",
      "mimetype": "text/x-python",
      "name": "python",
      "nbconvert_exporter": "python",
      "pygments_lexer": "ipython3",
      "version": "3.10.3"
    },
    "colab": {
      "provenance": [],
      "include_colab_link": true
    }
  },
  "nbformat": 4,
  "nbformat_minor": 5
}