{
 "cells": [
  {
   "cell_type": "markdown",
   "id": "c1dfc0b4",
   "metadata": {},
   "source": [
    "Dhea Gita (H071201030)"
   ]
  },
  {
   "cell_type": "markdown",
   "id": "bc72fc82",
   "metadata": {},
   "source": [
    "# <font color = '#008080'>Algoritma Regresi</font>"
   ]
  },
  {
   "cell_type": "markdown",
   "id": "f2ee5166",
   "metadata": {},
   "source": [
    "### <font color = '#808080'>Informasi Data</font>\n",
    "Kumpulan data NASA yang diperoleh dari serangkaian uji aerodinamis dan akustik bagian bilah airfoil dua dan tiga dimensi yang dilakukan di terowongan angin anechoic, terdiri dari airfoil NACA 0012 ukuran berbeda pada berbagai kecepatan terowongan angin dan sudut serang. Rentang airfoil dan posisi pengamat sama di semua percobaan.\n",
    "\n",
    "\n",
    "### <font color = '#808080'>Informasi Atribut</font>\n",
    "Masalah ini memiliki input sebagai berikut:\n",
    "* **Frequency**, in Hertzs.\n",
    "* **Angle of attack**, in degrees.\n",
    "* **Chord length**, in meters.\n",
    "* **Free-stream velocity**, in meters per second.\n",
    "* **Suction side displacement thickness**, in meters.\n",
    "Output:\n",
    "* **Scaled sound pressure level**, in decibels.\n",
    "\n",
    "    \n",
    "### <font color = '#808080'>Goal</font>\n",
    "Tujuan projek ini adalah untuk memprediksi `sound_level` dari serangkaian uji aerodimis dan akuistik bilah airfoil.\n",
    "\n",
    "\n",
    "### <font color = '#808080'>Objektif</font>\n",
    "* Part 1: Read Data\n",
    "* Part 2: Split Dataset\n",
    "* Part 3: Machine Learning dan Pengujian Metode\n",
    "* Part 4: Kesimpulan\n",
    "\n",
    "\n",
    "### <font color = '#808080'>Sumber Data</font>\n",
    "https://archive.ics.uci.edu/ml/datasets/Airfoil+Self-Noise\n",
    "\n",
    "\n",
    "### <font color = '#808080'>Yang Diperlukan</font>\n",
    "* Python library: `pandas`, `numpy`, `matplotlib`, `seaborn`, `scikit-learn`\n",
    "* Datafiles: `airfoil_self_noise.dat`"
   ]
  },
  {
   "cell_type": "markdown",
   "id": "4ce692ac",
   "metadata": {},
   "source": [
    "## Part 1: Read Data"
   ]
  },
  {
   "cell_type": "code",
   "execution_count": 1,
   "id": "fd500ad8",
   "metadata": {},
   "outputs": [],
   "source": [
    "import numpy as np\n",
    "import pandas as pd"
   ]
  },
  {
   "cell_type": "code",
   "execution_count": 2,
   "id": "90a13ed8",
   "metadata": {
    "scrolled": true
   },
   "outputs": [
    {
     "data": {
      "text/html": [
       "<div>\n",
       "<style scoped>\n",
       "    .dataframe tbody tr th:only-of-type {\n",
       "        vertical-align: middle;\n",
       "    }\n",
       "\n",
       "    .dataframe tbody tr th {\n",
       "        vertical-align: top;\n",
       "    }\n",
       "\n",
       "    .dataframe thead th {\n",
       "        text-align: right;\n",
       "    }\n",
       "</style>\n",
       "<table border=\"1\" class=\"dataframe\">\n",
       "  <thead>\n",
       "    <tr style=\"text-align: right;\">\n",
       "      <th></th>\n",
       "      <th>frequency</th>\n",
       "      <th>attack_angle</th>\n",
       "      <th>chord_length</th>\n",
       "      <th>fs_velocity</th>\n",
       "      <th>ssd_thickness</th>\n",
       "      <th>sound_level</th>\n",
       "    </tr>\n",
       "  </thead>\n",
       "  <tbody>\n",
       "    <tr>\n",
       "      <th>0</th>\n",
       "      <td>800</td>\n",
       "      <td>0.0</td>\n",
       "      <td>0.3048</td>\n",
       "      <td>71.3</td>\n",
       "      <td>0.002663</td>\n",
       "      <td>126.201</td>\n",
       "    </tr>\n",
       "    <tr>\n",
       "      <th>1</th>\n",
       "      <td>1000</td>\n",
       "      <td>0.0</td>\n",
       "      <td>0.3048</td>\n",
       "      <td>71.3</td>\n",
       "      <td>0.002663</td>\n",
       "      <td>125.201</td>\n",
       "    </tr>\n",
       "    <tr>\n",
       "      <th>2</th>\n",
       "      <td>1250</td>\n",
       "      <td>0.0</td>\n",
       "      <td>0.3048</td>\n",
       "      <td>71.3</td>\n",
       "      <td>0.002663</td>\n",
       "      <td>125.951</td>\n",
       "    </tr>\n",
       "    <tr>\n",
       "      <th>3</th>\n",
       "      <td>1600</td>\n",
       "      <td>0.0</td>\n",
       "      <td>0.3048</td>\n",
       "      <td>71.3</td>\n",
       "      <td>0.002663</td>\n",
       "      <td>127.591</td>\n",
       "    </tr>\n",
       "    <tr>\n",
       "      <th>4</th>\n",
       "      <td>2000</td>\n",
       "      <td>0.0</td>\n",
       "      <td>0.3048</td>\n",
       "      <td>71.3</td>\n",
       "      <td>0.002663</td>\n",
       "      <td>127.461</td>\n",
       "    </tr>\n",
       "  </tbody>\n",
       "</table>\n",
       "</div>"
      ],
      "text/plain": [
       "   frequency  attack_angle  chord_length  fs_velocity  ssd_thickness  \\\n",
       "0        800           0.0        0.3048         71.3       0.002663   \n",
       "1       1000           0.0        0.3048         71.3       0.002663   \n",
       "2       1250           0.0        0.3048         71.3       0.002663   \n",
       "3       1600           0.0        0.3048         71.3       0.002663   \n",
       "4       2000           0.0        0.3048         71.3       0.002663   \n",
       "\n",
       "   sound_level  \n",
       "0      126.201  \n",
       "1      125.201  \n",
       "2      125.951  \n",
       "3      127.591  \n",
       "4      127.461  "
      ]
     },
     "execution_count": 2,
     "metadata": {},
     "output_type": "execute_result"
    }
   ],
   "source": [
    "airfoil_data = pd.read_table('Data/airfoil_self_noise.dat', header=None)\n",
    "airfoil_data.columns = ['frequency', 'attack_angle', 'chord_length', 'fs_velocity', 'ssd_thickness', 'sound_level']\n",
    "airfoil_data.head()"
   ]
  },
  {
   "cell_type": "markdown",
   "id": "5a300318",
   "metadata": {},
   "source": [
    "Cleaning dataset"
   ]
  },
  {
   "cell_type": "code",
   "execution_count": 3,
   "id": "6aeaef1c",
   "metadata": {
    "scrolled": true
   },
   "outputs": [
    {
     "name": "stdout",
     "output_type": "stream",
     "text": [
      "<class 'pandas.core.frame.DataFrame'>\n",
      "RangeIndex: 1503 entries, 0 to 1502\n",
      "Data columns (total 6 columns):\n",
      " #   Column         Non-Null Count  Dtype  \n",
      "---  ------         --------------  -----  \n",
      " 0   frequency      1503 non-null   int64  \n",
      " 1   attack_angle   1503 non-null   float64\n",
      " 2   chord_length   1503 non-null   float64\n",
      " 3   fs_velocity    1503 non-null   float64\n",
      " 4   ssd_thickness  1503 non-null   float64\n",
      " 5   sound_level    1503 non-null   float64\n",
      "dtypes: float64(5), int64(1)\n",
      "memory usage: 70.6 KB\n"
     ]
    }
   ],
   "source": [
    "airfoil_data.info()"
   ]
  },
  {
   "cell_type": "code",
   "execution_count": 4,
   "id": "0a490fe1",
   "metadata": {},
   "outputs": [
    {
     "data": {
      "text/plain": [
       "frequency        False\n",
       "attack_angle     False\n",
       "chord_length     False\n",
       "fs_velocity      False\n",
       "ssd_thickness    False\n",
       "sound_level      False\n",
       "dtype: bool"
      ]
     },
     "execution_count": 4,
     "metadata": {},
     "output_type": "execute_result"
    }
   ],
   "source": [
    "airfoil_data.isna().any()"
   ]
  },
  {
   "cell_type": "code",
   "execution_count": 5,
   "id": "2b342f98",
   "metadata": {},
   "outputs": [
    {
     "data": {
      "text/plain": [
       "False"
      ]
     },
     "execution_count": 5,
     "metadata": {},
     "output_type": "execute_result"
    }
   ],
   "source": [
    "airfoil_data.duplicated().any()"
   ]
  },
  {
   "cell_type": "markdown",
   "id": "136e08fa",
   "metadata": {},
   "source": [
    "* Jumlah baris: 1503\n",
    "* Jumalah fitur: 6\n",
    "* Variabel target: `sound_level`\n",
    "* Tidak ada `missing-value`\n",
    "* Tidak ada data duplikat"
   ]
  },
  {
   "cell_type": "markdown",
   "id": "cf1a3220",
   "metadata": {},
   "source": [
    "Seleksi fitur"
   ]
  },
  {
   "cell_type": "code",
   "execution_count": 6,
   "id": "de0110fa",
   "metadata": {
    "scrolled": true
   },
   "outputs": [
    {
     "data": {
      "text/html": [
       "<div>\n",
       "<style scoped>\n",
       "    .dataframe tbody tr th:only-of-type {\n",
       "        vertical-align: middle;\n",
       "    }\n",
       "\n",
       "    .dataframe tbody tr th {\n",
       "        vertical-align: top;\n",
       "    }\n",
       "\n",
       "    .dataframe thead th {\n",
       "        text-align: right;\n",
       "    }\n",
       "</style>\n",
       "<table border=\"1\" class=\"dataframe\">\n",
       "  <thead>\n",
       "    <tr style=\"text-align: right;\">\n",
       "      <th></th>\n",
       "      <th>frequency</th>\n",
       "      <th>attack_angle</th>\n",
       "      <th>chord_length</th>\n",
       "      <th>fs_velocity</th>\n",
       "      <th>ssd_thickness</th>\n",
       "      <th>sound_level</th>\n",
       "    </tr>\n",
       "  </thead>\n",
       "  <tbody>\n",
       "    <tr>\n",
       "      <th>count</th>\n",
       "      <td>1503.000000</td>\n",
       "      <td>1503.000000</td>\n",
       "      <td>1503.000000</td>\n",
       "      <td>1503.000000</td>\n",
       "      <td>1503.000000</td>\n",
       "      <td>1503.000000</td>\n",
       "    </tr>\n",
       "    <tr>\n",
       "      <th>mean</th>\n",
       "      <td>2886.380572</td>\n",
       "      <td>6.782302</td>\n",
       "      <td>0.136548</td>\n",
       "      <td>50.860745</td>\n",
       "      <td>0.011140</td>\n",
       "      <td>124.835943</td>\n",
       "    </tr>\n",
       "    <tr>\n",
       "      <th>std</th>\n",
       "      <td>3152.573137</td>\n",
       "      <td>5.918128</td>\n",
       "      <td>0.093541</td>\n",
       "      <td>15.572784</td>\n",
       "      <td>0.013150</td>\n",
       "      <td>6.898657</td>\n",
       "    </tr>\n",
       "    <tr>\n",
       "      <th>min</th>\n",
       "      <td>200.000000</td>\n",
       "      <td>0.000000</td>\n",
       "      <td>0.025400</td>\n",
       "      <td>31.700000</td>\n",
       "      <td>0.000401</td>\n",
       "      <td>103.380000</td>\n",
       "    </tr>\n",
       "    <tr>\n",
       "      <th>25%</th>\n",
       "      <td>800.000000</td>\n",
       "      <td>2.000000</td>\n",
       "      <td>0.050800</td>\n",
       "      <td>39.600000</td>\n",
       "      <td>0.002535</td>\n",
       "      <td>120.191000</td>\n",
       "    </tr>\n",
       "    <tr>\n",
       "      <th>50%</th>\n",
       "      <td>1600.000000</td>\n",
       "      <td>5.400000</td>\n",
       "      <td>0.101600</td>\n",
       "      <td>39.600000</td>\n",
       "      <td>0.004957</td>\n",
       "      <td>125.721000</td>\n",
       "    </tr>\n",
       "    <tr>\n",
       "      <th>75%</th>\n",
       "      <td>4000.000000</td>\n",
       "      <td>9.900000</td>\n",
       "      <td>0.228600</td>\n",
       "      <td>71.300000</td>\n",
       "      <td>0.015576</td>\n",
       "      <td>129.995500</td>\n",
       "    </tr>\n",
       "    <tr>\n",
       "      <th>max</th>\n",
       "      <td>20000.000000</td>\n",
       "      <td>22.200000</td>\n",
       "      <td>0.304800</td>\n",
       "      <td>71.300000</td>\n",
       "      <td>0.058411</td>\n",
       "      <td>140.987000</td>\n",
       "    </tr>\n",
       "  </tbody>\n",
       "</table>\n",
       "</div>"
      ],
      "text/plain": [
       "          frequency  attack_angle  chord_length  fs_velocity  ssd_thickness  \\\n",
       "count   1503.000000   1503.000000   1503.000000  1503.000000    1503.000000   \n",
       "mean    2886.380572      6.782302      0.136548    50.860745       0.011140   \n",
       "std     3152.573137      5.918128      0.093541    15.572784       0.013150   \n",
       "min      200.000000      0.000000      0.025400    31.700000       0.000401   \n",
       "25%      800.000000      2.000000      0.050800    39.600000       0.002535   \n",
       "50%     1600.000000      5.400000      0.101600    39.600000       0.004957   \n",
       "75%     4000.000000      9.900000      0.228600    71.300000       0.015576   \n",
       "max    20000.000000     22.200000      0.304800    71.300000       0.058411   \n",
       "\n",
       "       sound_level  \n",
       "count  1503.000000  \n",
       "mean    124.835943  \n",
       "std       6.898657  \n",
       "min     103.380000  \n",
       "25%     120.191000  \n",
       "50%     125.721000  \n",
       "75%     129.995500  \n",
       "max     140.987000  "
      ]
     },
     "execution_count": 6,
     "metadata": {},
     "output_type": "execute_result"
    }
   ],
   "source": [
    "airfoil_data.describe()"
   ]
  },
  {
   "cell_type": "code",
   "execution_count": 7,
   "id": "8110a120",
   "metadata": {
    "scrolled": true
   },
   "outputs": [
    {
     "data": {
      "text/html": [
       "<div>\n",
       "<style scoped>\n",
       "    .dataframe tbody tr th:only-of-type {\n",
       "        vertical-align: middle;\n",
       "    }\n",
       "\n",
       "    .dataframe tbody tr th {\n",
       "        vertical-align: top;\n",
       "    }\n",
       "\n",
       "    .dataframe thead th {\n",
       "        text-align: right;\n",
       "    }\n",
       "</style>\n",
       "<table border=\"1\" class=\"dataframe\">\n",
       "  <thead>\n",
       "    <tr style=\"text-align: right;\">\n",
       "      <th></th>\n",
       "      <th>frequency</th>\n",
       "      <th>attack_angle</th>\n",
       "      <th>chord_length</th>\n",
       "      <th>fs_velocity</th>\n",
       "      <th>ssd_thickness</th>\n",
       "      <th>sound_level</th>\n",
       "    </tr>\n",
       "  </thead>\n",
       "  <tbody>\n",
       "    <tr>\n",
       "      <th>frequency</th>\n",
       "      <td>1.000000</td>\n",
       "      <td>-0.272765</td>\n",
       "      <td>-0.003661</td>\n",
       "      <td>0.133664</td>\n",
       "      <td>-0.230107</td>\n",
       "      <td>-0.390711</td>\n",
       "    </tr>\n",
       "    <tr>\n",
       "      <th>attack_angle</th>\n",
       "      <td>-0.272765</td>\n",
       "      <td>1.000000</td>\n",
       "      <td>-0.504868</td>\n",
       "      <td>0.058760</td>\n",
       "      <td>0.753394</td>\n",
       "      <td>-0.156108</td>\n",
       "    </tr>\n",
       "    <tr>\n",
       "      <th>chord_length</th>\n",
       "      <td>-0.003661</td>\n",
       "      <td>-0.504868</td>\n",
       "      <td>1.000000</td>\n",
       "      <td>0.003787</td>\n",
       "      <td>-0.220842</td>\n",
       "      <td>-0.236162</td>\n",
       "    </tr>\n",
       "    <tr>\n",
       "      <th>fs_velocity</th>\n",
       "      <td>0.133664</td>\n",
       "      <td>0.058760</td>\n",
       "      <td>0.003787</td>\n",
       "      <td>1.000000</td>\n",
       "      <td>-0.003974</td>\n",
       "      <td>0.125103</td>\n",
       "    </tr>\n",
       "    <tr>\n",
       "      <th>ssd_thickness</th>\n",
       "      <td>-0.230107</td>\n",
       "      <td>0.753394</td>\n",
       "      <td>-0.220842</td>\n",
       "      <td>-0.003974</td>\n",
       "      <td>1.000000</td>\n",
       "      <td>-0.312670</td>\n",
       "    </tr>\n",
       "    <tr>\n",
       "      <th>sound_level</th>\n",
       "      <td>-0.390711</td>\n",
       "      <td>-0.156108</td>\n",
       "      <td>-0.236162</td>\n",
       "      <td>0.125103</td>\n",
       "      <td>-0.312670</td>\n",
       "      <td>1.000000</td>\n",
       "    </tr>\n",
       "  </tbody>\n",
       "</table>\n",
       "</div>"
      ],
      "text/plain": [
       "               frequency  attack_angle  chord_length  fs_velocity  \\\n",
       "frequency       1.000000     -0.272765     -0.003661     0.133664   \n",
       "attack_angle   -0.272765      1.000000     -0.504868     0.058760   \n",
       "chord_length   -0.003661     -0.504868      1.000000     0.003787   \n",
       "fs_velocity     0.133664      0.058760      0.003787     1.000000   \n",
       "ssd_thickness  -0.230107      0.753394     -0.220842    -0.003974   \n",
       "sound_level    -0.390711     -0.156108     -0.236162     0.125103   \n",
       "\n",
       "               ssd_thickness  sound_level  \n",
       "frequency          -0.230107    -0.390711  \n",
       "attack_angle        0.753394    -0.156108  \n",
       "chord_length       -0.220842    -0.236162  \n",
       "fs_velocity        -0.003974     0.125103  \n",
       "ssd_thickness       1.000000    -0.312670  \n",
       "sound_level        -0.312670     1.000000  "
      ]
     },
     "execution_count": 7,
     "metadata": {},
     "output_type": "execute_result"
    }
   ],
   "source": [
    "airfoil_data.corr()"
   ]
  },
  {
   "cell_type": "markdown",
   "id": "b3aefba9",
   "metadata": {},
   "source": [
    "Berdasarkan tabel korelasi, korelasi antara `sound_level` dengan fitur lainnya rata-rata diatas 0.1, sehingga semua fitur akan digunakan untuk pembuatan model."
   ]
  },
  {
   "cell_type": "markdown",
   "id": "0b078544",
   "metadata": {},
   "source": [
    "## Part 2: Split Dataset"
   ]
  },
  {
   "cell_type": "code",
   "execution_count": 8,
   "id": "2a6ad583",
   "metadata": {
    "scrolled": false
   },
   "outputs": [
    {
     "data": {
      "text/html": [
       "<div>\n",
       "<style scoped>\n",
       "    .dataframe tbody tr th:only-of-type {\n",
       "        vertical-align: middle;\n",
       "    }\n",
       "\n",
       "    .dataframe tbody tr th {\n",
       "        vertical-align: top;\n",
       "    }\n",
       "\n",
       "    .dataframe thead th {\n",
       "        text-align: right;\n",
       "    }\n",
       "</style>\n",
       "<table border=\"1\" class=\"dataframe\">\n",
       "  <thead>\n",
       "    <tr style=\"text-align: right;\">\n",
       "      <th></th>\n",
       "      <th>frequency</th>\n",
       "      <th>attack_angle</th>\n",
       "      <th>chord_length</th>\n",
       "      <th>fs_velocity</th>\n",
       "      <th>ssd_thickness</th>\n",
       "      <th>sound_level</th>\n",
       "    </tr>\n",
       "  </thead>\n",
       "  <tbody>\n",
       "    <tr>\n",
       "      <th>0</th>\n",
       "      <td>800</td>\n",
       "      <td>0.0</td>\n",
       "      <td>0.3048</td>\n",
       "      <td>71.3</td>\n",
       "      <td>0.002663</td>\n",
       "      <td>126.201</td>\n",
       "    </tr>\n",
       "    <tr>\n",
       "      <th>1</th>\n",
       "      <td>1000</td>\n",
       "      <td>0.0</td>\n",
       "      <td>0.3048</td>\n",
       "      <td>71.3</td>\n",
       "      <td>0.002663</td>\n",
       "      <td>125.201</td>\n",
       "    </tr>\n",
       "    <tr>\n",
       "      <th>2</th>\n",
       "      <td>1250</td>\n",
       "      <td>0.0</td>\n",
       "      <td>0.3048</td>\n",
       "      <td>71.3</td>\n",
       "      <td>0.002663</td>\n",
       "      <td>125.951</td>\n",
       "    </tr>\n",
       "    <tr>\n",
       "      <th>3</th>\n",
       "      <td>1600</td>\n",
       "      <td>0.0</td>\n",
       "      <td>0.3048</td>\n",
       "      <td>71.3</td>\n",
       "      <td>0.002663</td>\n",
       "      <td>127.591</td>\n",
       "    </tr>\n",
       "    <tr>\n",
       "      <th>4</th>\n",
       "      <td>2000</td>\n",
       "      <td>0.0</td>\n",
       "      <td>0.3048</td>\n",
       "      <td>71.3</td>\n",
       "      <td>0.002663</td>\n",
       "      <td>127.461</td>\n",
       "    </tr>\n",
       "  </tbody>\n",
       "</table>\n",
       "</div>"
      ],
      "text/plain": [
       "   frequency  attack_angle  chord_length  fs_velocity  ssd_thickness  \\\n",
       "0        800           0.0        0.3048         71.3       0.002663   \n",
       "1       1000           0.0        0.3048         71.3       0.002663   \n",
       "2       1250           0.0        0.3048         71.3       0.002663   \n",
       "3       1600           0.0        0.3048         71.3       0.002663   \n",
       "4       2000           0.0        0.3048         71.3       0.002663   \n",
       "\n",
       "   sound_level  \n",
       "0      126.201  \n",
       "1      125.201  \n",
       "2      125.951  \n",
       "3      127.591  \n",
       "4      127.461  "
      ]
     },
     "execution_count": 8,
     "metadata": {},
     "output_type": "execute_result"
    }
   ],
   "source": [
    "airfoil_data.head()"
   ]
  },
  {
   "cell_type": "code",
   "execution_count": 9,
   "id": "12e1e65c",
   "metadata": {},
   "outputs": [],
   "source": [
    "X = airfoil_data.drop(['sound_level'], axis=1)\n",
    "X = X.iloc[:,:]\n",
    "y = airfoil_data['sound_level']\n",
    "y = y.iloc[:]"
   ]
  },
  {
   "cell_type": "code",
   "execution_count": 10,
   "id": "9a0cf211",
   "metadata": {},
   "outputs": [],
   "source": [
    "from sklearn.model_selection import train_test_split\n",
    "\n",
    "X_train, X_test, y_train, y_test = train_test_split(X, y, test_size=0.2)"
   ]
  },
  {
   "cell_type": "markdown",
   "id": "48554776",
   "metadata": {},
   "source": [
    "## Part 3: Machine Learning dan Pengujian Metode"
   ]
  },
  {
   "cell_type": "markdown",
   "id": "c48cf596",
   "metadata": {},
   "source": [
    "Mean Squared Error (MSE) atau rata-rata kesalahan kuadrat menghitung rata-rata dari selisih kuadrat antara nilai prediksi dan nilai aktual. Rumusnya adalah sebagai berikut:\n",
    "\n",
    "MSE = 1/n * ∑(y_actual - y_pred)^2\n",
    "\n",
    "Semakin rendah nilai MSE, semakin baik kinerja model regresi linear tersebut."
   ]
  },
  {
   "cell_type": "code",
   "execution_count": 11,
   "id": "18fe446c",
   "metadata": {
    "scrolled": true
   },
   "outputs": [
    {
     "name": "stdout",
     "output_type": "stream",
     "text": [
      "MSE: 22.556798865620497\n"
     ]
    }
   ],
   "source": [
    "from sklearn.linear_model import LinearRegression\n",
    "import sklearn.metrics as metrics\n",
    "\n",
    "reg_method = LinearRegression()\n",
    "reg_method.fit(X_train, y_train)\n",
    "reg_predic = reg_method.predict(X_test)\n",
    "\n",
    "MSE = 1/len(reg_predic) * sum((y_test-reg_predic)**2)\n",
    "print('MSE:', MSE)"
   ]
  },
  {
   "cell_type": "code",
   "execution_count": 16,
   "id": "95aceddc",
   "metadata": {},
   "outputs": [],
   "source": [
    "import warnings\n",
    "warnings.filterwarnings('ignore')\n",
    "import seaborn as sns\n",
    "import matplotlib.pyplot as plt"
   ]
  },
  {
   "cell_type": "code",
   "execution_count": 17,
   "id": "e5f2eee8",
   "metadata": {
    "scrolled": true
   },
   "outputs": [
    {
     "data": {
      "image/png": "[encoded data removed]",
      "text/plain": [
       "<Figure size 432x288 with 1 Axes>"
      ]
     },
     "metadata": {
      "needs_background": "light"
     },
     "output_type": "display_data"
    }
   ],
   "source": [
    "sns.regplot(y_test, reg_predic, line_kws={'color':'red'})\n",
    "plt.show()"
   ]
  },
  {
   "cell_type": "markdown",
   "id": "a76b2bc5",
   "metadata": {},
   "source": [
    "## Part 4: Kesimpulan"
   ]
  },
  {
   "cell_type": "markdown",
   "id": "5879e786",
   "metadata": {},
   "source": [
    "Nilai MSE yang dihasilkan yaitu `22.6`, karena nilainya begitu rendah maka dapat dikatakan kesalahan prediksi model ini juga rendah.\n",
    "\n",
    "Berdasarkan grafik di atas, terdapat hubungan positif antara variabel fitur (X) dan variabel target (y), karena seiring nilai X meningkat maka nilai y meningkat juga. Selain itu, sebaran titik-titik data pada plot cenderung berada dekat garis linear. Sehingga dapat dikatakan model regresi linear sangat cocok untuk digunakan dalam data ini."
   ]
  }
 ],
 "metadata": {
  "kernelspec": {
   "display_name": "Python 3 (ipykernel)",
   "language": "python",
   "name": "python3"
  },
  "language_info": {
   "codemirror_mode": {
    "name": "ipython",
    "version": 3
   },
   "file_extension": ".py",
   "mimetype": "text/x-python",
   "name": "python",
   "nbconvert_exporter": "python",
   "pygments_lexer": "ipython3",
   "version": "3.10.3"
  }
 },
 "nbformat": 4,
 "nbformat_minor": 5
}
