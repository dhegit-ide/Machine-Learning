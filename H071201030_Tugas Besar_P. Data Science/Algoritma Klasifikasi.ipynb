{
 "cells": [
  {
   "cell_type": "markdown",
   "id": "c7d3c3d1",
   "metadata": {},
   "source": [
    "Dhea Gita (H071201030)"
   ]
  },
  {
   "cell_type": "markdown",
   "id": "4e7b8fb1",
   "metadata": {},
   "source": [
    "# <font color = '#008080'>Algoritma Klasifikasi</font>"
   ]
  },
  {
   "cell_type": "markdown",
   "id": "75a1c928",
   "metadata": {},
   "source": [
    "### <font color = '#808080'>Informasi Data</font>\n",
    "Dataset mencakup 244 contoh yang mengelompokkan kembali data dari dua wilayah Aljazair, yaitu wilayah Bejaia yang terletak di timur laut Aljazair dan wilayah Sidi Bel-abbes yang terletak di barat laut Aljazair.\n",
    "\n",
    "122 instansi untuk setiap wilayah. Periode dari Juni 2012 hingga September 2012. Dataset mencakup 11 atribut dan 1 output atribut *(class)*. 244 instansi telah diklasifikasikan ke dalam kelas `fire` (138 class) dan `non fire` (106 class).\n",
    "\n",
    "\n",
    "### <font color = '#808080'>Informasi Atribut</font>\n",
    "* **Date -** (DD/MM/YYYY) tanggal, bulan (juni-september), tahun (2012) \n",
    "\n",
    "*Pengamatan Data Cuaca*\n",
    "* **Temp -** suhu siang (suhu max) dalam derajat Celcius (22-24)\n",
    "* **RH -** Relative Humidity (kelembaban relatif) dalam `%` (21-90)\n",
    "* **Ws -** Wind speed (kecepatan angin) dalam km/jam (6-29)\n",
    "* **Rain -** total hari dalam mm (0-16.8) \n",
    "\n",
    "*Komponen FWI*\n",
    "* **FFMC (Fine Fuel Moisture Code) -** mengukur kondisi kebakaran pada awal musim kebakaran ketika bahan bakar masih sangat kering, index dari sistem FWI (28.6-92.5)\n",
    "* **DMC (Duff Moisture Code) -**  peringkat numerik dari kelembaban rata-rata dari lapisan tanah organik yang tidak padat dengan kedalaman sedang, index dari sistem FWI (7-220.4)\n",
    "* **DC (Drought Code) -**,  peringkat numerik kandungan kadar air di lapisan organik yang berada 10-20 cm di bawah permukaan tanah, index dari sistem FWI (7-220.4)\n",
    "* **ISI (Initial Spread Index) -** mengukur kondisi kebakaran pada awal musim kebakaran ketika bahan bakar masih sangat kering, index dari sistem FWI (0-18.5)\n",
    "* **BUI (Build Up Index) -** mengukur kondisi kebakaran di pertengahan hingga akhir musim kebakaran, index dari sistem FWI (0-31.1)\n",
    "* **FWI (Fire Weather Index) -** index FWI (0-31.1)\n",
    "* **Classes -** dua kelas `fire` dan `non fire`\n",
    "\n",
    "    \n",
    "### <font color = '#808080'>Goal</font>\n",
    "Tujuan pojek ini adalah untuk mendeteksi munculnya api yang akan diklasifikasikan ke dalam class `fire` dan `non fire`, berdasarkan pengamatan data cuaca.\n",
    "\n",
    "\n",
    "### <font color = '#808080'>Objektif</font>\n",
    "* Part 1: Read Data\n",
    "* Part 2: Split Dataset\n",
    "* Part 3: Machine Learning\n",
    "* Part 4: Pengujian Metode\n",
    "* Part 5: Kesimpulan\n",
    "\n",
    "\n",
    "### <font color = '#808080'>Sumber Data</font>\n",
    "https://archive.ics.uci.edu/ml/datasets/Algerian+Forest+Fires+Dataset++\n",
    "\n",
    "\n",
    "### <font color = '#808080'>Yang Diperlukan</font>\n",
    "* Python library: `pandas`, `numpy`, `matplotlib`, `scikit-learn`\n",
    "* Datafiles: `Algerian_forest_fires_dataset_UPDATE.csv`"
   ]
  },
  {
   "cell_type": "markdown",
   "id": "51d47670",
   "metadata": {},
   "source": [
    "## Part 1: Read Data"
   ]
  },
  {
   "cell_type": "code",
   "execution_count": 1,
   "id": "ed127c72",
   "metadata": {},
   "outputs": [],
   "source": [
    "import pandas as pd\n",
    "import numpy as np"
   ]
  },
  {
   "cell_type": "markdown",
   "id": "44cbbb57",
   "metadata": {},
   "source": [
    "Dalam satu file yang didownload dari UCI memiliki dua jenis dataset dari region yang berbeda yaitu `Bejaia` dan `Sidi-Bel Abbes`. Oleh karena itu, dengan cara manual ini dimodifikasi menggunakan aplikasi Microsoft Excel untuk memisahkan kedua dataset tersebut."
   ]
  },
  {
   "cell_type": "code",
   "execution_count": 2,
   "id": "9a544aef",
   "metadata": {},
   "outputs": [],
   "source": [
    "header = ['day', 'month', 'year', \n",
    "          'Temp', 'RH', 'Ws', 'Rain', 'FFMC', 'DMC', 'DC', \n",
    "          'ISI', 'BUI', 'FWI', 'Classes']"
   ]
  },
  {
   "cell_type": "code",
   "execution_count": 3,
   "id": "e5cebdf7",
   "metadata": {
    "scrolled": true
   },
   "outputs": [
    {
     "data": {
      "text/html": [
       "<div>\n",
       "<style scoped>\n",
       "    .dataframe tbody tr th:only-of-type {\n",
       "        vertical-align: middle;\n",
       "    }\n",
       "\n",
       "    .dataframe tbody tr th {\n",
       "        vertical-align: top;\n",
       "    }\n",
       "\n",
       "    .dataframe thead th {\n",
       "        text-align: right;\n",
       "    }\n",
       "</style>\n",
       "<table border=\"1\" class=\"dataframe\">\n",
       "  <thead>\n",
       "    <tr style=\"text-align: right;\">\n",
       "      <th></th>\n",
       "      <th>day</th>\n",
       "      <th>month</th>\n",
       "      <th>year</th>\n",
       "      <th>Temp</th>\n",
       "      <th>RH</th>\n",
       "      <th>Ws</th>\n",
       "      <th>Rain</th>\n",
       "      <th>FFMC</th>\n",
       "      <th>DMC</th>\n",
       "      <th>DC</th>\n",
       "      <th>ISI</th>\n",
       "      <th>BUI</th>\n",
       "      <th>FWI</th>\n",
       "      <th>Classes</th>\n",
       "    </tr>\n",
       "  </thead>\n",
       "  <tbody>\n",
       "    <tr>\n",
       "      <th>0</th>\n",
       "      <td>1</td>\n",
       "      <td>6</td>\n",
       "      <td>2012</td>\n",
       "      <td>29</td>\n",
       "      <td>57</td>\n",
       "      <td>18</td>\n",
       "      <td>0.0</td>\n",
       "      <td>65.7</td>\n",
       "      <td>3.4</td>\n",
       "      <td>7.6</td>\n",
       "      <td>1.3</td>\n",
       "      <td>3.4</td>\n",
       "      <td>0.5</td>\n",
       "      <td>not fire</td>\n",
       "    </tr>\n",
       "    <tr>\n",
       "      <th>1</th>\n",
       "      <td>2</td>\n",
       "      <td>6</td>\n",
       "      <td>2012</td>\n",
       "      <td>29</td>\n",
       "      <td>61</td>\n",
       "      <td>13</td>\n",
       "      <td>1.3</td>\n",
       "      <td>64.4</td>\n",
       "      <td>4.1</td>\n",
       "      <td>7.6</td>\n",
       "      <td>1.0</td>\n",
       "      <td>3.9</td>\n",
       "      <td>0.4</td>\n",
       "      <td>not fire</td>\n",
       "    </tr>\n",
       "    <tr>\n",
       "      <th>2</th>\n",
       "      <td>3</td>\n",
       "      <td>6</td>\n",
       "      <td>2012</td>\n",
       "      <td>26</td>\n",
       "      <td>82</td>\n",
       "      <td>22</td>\n",
       "      <td>13.1</td>\n",
       "      <td>47.1</td>\n",
       "      <td>2.5</td>\n",
       "      <td>7.1</td>\n",
       "      <td>0.3</td>\n",
       "      <td>2.7</td>\n",
       "      <td>0.1</td>\n",
       "      <td>not fire</td>\n",
       "    </tr>\n",
       "    <tr>\n",
       "      <th>3</th>\n",
       "      <td>4</td>\n",
       "      <td>6</td>\n",
       "      <td>2012</td>\n",
       "      <td>25</td>\n",
       "      <td>89</td>\n",
       "      <td>13</td>\n",
       "      <td>2.5</td>\n",
       "      <td>28.6</td>\n",
       "      <td>1.3</td>\n",
       "      <td>6.9</td>\n",
       "      <td>0.0</td>\n",
       "      <td>1.7</td>\n",
       "      <td>0.0</td>\n",
       "      <td>not fire</td>\n",
       "    </tr>\n",
       "    <tr>\n",
       "      <th>4</th>\n",
       "      <td>5</td>\n",
       "      <td>6</td>\n",
       "      <td>2012</td>\n",
       "      <td>27</td>\n",
       "      <td>77</td>\n",
       "      <td>16</td>\n",
       "      <td>0.0</td>\n",
       "      <td>64.8</td>\n",
       "      <td>3.0</td>\n",
       "      <td>14.2</td>\n",
       "      <td>1.2</td>\n",
       "      <td>3.9</td>\n",
       "      <td>0.5</td>\n",
       "      <td>not fire</td>\n",
       "    </tr>\n",
       "  </tbody>\n",
       "</table>\n",
       "</div>"
      ],
      "text/plain": [
       "   day  month  year  Temp  RH  Ws  Rain  FFMC  DMC    DC  ISI  BUI  FWI  \\\n",
       "0    1      6  2012    29  57  18   0.0  65.7  3.4   7.6  1.3  3.4  0.5   \n",
       "1    2      6  2012    29  61  13   1.3  64.4  4.1   7.6  1.0  3.9  0.4   \n",
       "2    3      6  2012    26  82  22  13.1  47.1  2.5   7.1  0.3  2.7  0.1   \n",
       "3    4      6  2012    25  89  13   2.5  28.6  1.3   6.9  0.0  1.7  0.0   \n",
       "4    5      6  2012    27  77  16   0.0  64.8  3.0  14.2  1.2  3.9  0.5   \n",
       "\n",
       "       Classes  \n",
       "0  not fire     \n",
       "1  not fire     \n",
       "2  not fire     \n",
       "3  not fire     \n",
       "4  not fire     "
      ]
     },
     "execution_count": 3,
     "metadata": {},
     "output_type": "execute_result"
    }
   ],
   "source": [
    "df_bejaia = pd.read_csv('Data/Algerian_forest_fires_dataset_Bejaia Region.csv', header=None)\n",
    "df_bejaia.columns = header\n",
    "df_bejaia.head()"
   ]
  },
  {
   "cell_type": "code",
   "execution_count": 4,
   "id": "7ff982bb",
   "metadata": {},
   "outputs": [
    {
     "data": {
      "text/html": [
       "<div>\n",
       "<style scoped>\n",
       "    .dataframe tbody tr th:only-of-type {\n",
       "        vertical-align: middle;\n",
       "    }\n",
       "\n",
       "    .dataframe tbody tr th {\n",
       "        vertical-align: top;\n",
       "    }\n",
       "\n",
       "    .dataframe thead th {\n",
       "        text-align: right;\n",
       "    }\n",
       "</style>\n",
       "<table border=\"1\" class=\"dataframe\">\n",
       "  <thead>\n",
       "    <tr style=\"text-align: right;\">\n",
       "      <th></th>\n",
       "      <th>day</th>\n",
       "      <th>month</th>\n",
       "      <th>year</th>\n",
       "      <th>Temp</th>\n",
       "      <th>RH</th>\n",
       "      <th>Ws</th>\n",
       "      <th>Rain</th>\n",
       "      <th>FFMC</th>\n",
       "      <th>DMC</th>\n",
       "      <th>DC</th>\n",
       "      <th>ISI</th>\n",
       "      <th>BUI</th>\n",
       "      <th>FWI</th>\n",
       "      <th>Classes</th>\n",
       "    </tr>\n",
       "  </thead>\n",
       "  <tbody>\n",
       "    <tr>\n",
       "      <th>0</th>\n",
       "      <td>1</td>\n",
       "      <td>6</td>\n",
       "      <td>2012</td>\n",
       "      <td>32</td>\n",
       "      <td>71</td>\n",
       "      <td>12</td>\n",
       "      <td>0.7</td>\n",
       "      <td>57.1</td>\n",
       "      <td>2.5</td>\n",
       "      <td>8.2</td>\n",
       "      <td>0.6</td>\n",
       "      <td>2.8</td>\n",
       "      <td>0.2</td>\n",
       "      <td>not fire</td>\n",
       "    </tr>\n",
       "    <tr>\n",
       "      <th>1</th>\n",
       "      <td>2</td>\n",
       "      <td>6</td>\n",
       "      <td>2012</td>\n",
       "      <td>30</td>\n",
       "      <td>73</td>\n",
       "      <td>13</td>\n",
       "      <td>4.0</td>\n",
       "      <td>55.7</td>\n",
       "      <td>2.7</td>\n",
       "      <td>7.8</td>\n",
       "      <td>0.6</td>\n",
       "      <td>2.9</td>\n",
       "      <td>0.2</td>\n",
       "      <td>not fire</td>\n",
       "    </tr>\n",
       "    <tr>\n",
       "      <th>2</th>\n",
       "      <td>3</td>\n",
       "      <td>6</td>\n",
       "      <td>2012</td>\n",
       "      <td>29</td>\n",
       "      <td>80</td>\n",
       "      <td>14</td>\n",
       "      <td>2.0</td>\n",
       "      <td>48.7</td>\n",
       "      <td>2.2</td>\n",
       "      <td>7.6</td>\n",
       "      <td>0.3</td>\n",
       "      <td>2.6</td>\n",
       "      <td>0.1</td>\n",
       "      <td>not fire</td>\n",
       "    </tr>\n",
       "    <tr>\n",
       "      <th>3</th>\n",
       "      <td>4</td>\n",
       "      <td>6</td>\n",
       "      <td>2012</td>\n",
       "      <td>30</td>\n",
       "      <td>64</td>\n",
       "      <td>14</td>\n",
       "      <td>0.0</td>\n",
       "      <td>79.4</td>\n",
       "      <td>5.2</td>\n",
       "      <td>15.4</td>\n",
       "      <td>2.2</td>\n",
       "      <td>5.6</td>\n",
       "      <td>1.0</td>\n",
       "      <td>not fire</td>\n",
       "    </tr>\n",
       "    <tr>\n",
       "      <th>4</th>\n",
       "      <td>5</td>\n",
       "      <td>6</td>\n",
       "      <td>2012</td>\n",
       "      <td>32</td>\n",
       "      <td>60</td>\n",
       "      <td>14</td>\n",
       "      <td>0.2</td>\n",
       "      <td>77.1</td>\n",
       "      <td>6.0</td>\n",
       "      <td>17.6</td>\n",
       "      <td>1.8</td>\n",
       "      <td>6.5</td>\n",
       "      <td>0.9</td>\n",
       "      <td>not fire</td>\n",
       "    </tr>\n",
       "  </tbody>\n",
       "</table>\n",
       "</div>"
      ],
      "text/plain": [
       "   day  month  year  Temp  RH  Ws  Rain  FFMC  DMC    DC  ISI  BUI  FWI  \\\n",
       "0    1      6  2012    32  71  12   0.7  57.1  2.5   8.2  0.6  2.8  0.2   \n",
       "1    2      6  2012    30  73  13   4.0  55.7  2.7   7.8  0.6  2.9  0.2   \n",
       "2    3      6  2012    29  80  14   2.0  48.7  2.2   7.6  0.3  2.6  0.1   \n",
       "3    4      6  2012    30  64  14   0.0  79.4  5.2  15.4  2.2  5.6  1.0   \n",
       "4    5      6  2012    32  60  14   0.2  77.1  6.0  17.6  1.8  6.5  0.9   \n",
       "\n",
       "       Classes  \n",
       "0  not fire     \n",
       "1  not fire     \n",
       "2  not fire     \n",
       "3  not fire     \n",
       "4  not fire     "
      ]
     },
     "execution_count": 4,
     "metadata": {},
     "output_type": "execute_result"
    }
   ],
   "source": [
    "df_sidi = pd.read_csv('Data/Algerian_forest_fires_dataset_Sidi-Bel Abbes Region.csv', header=None)\n",
    "df_sidi.columns = header\n",
    "df_sidi.head()"
   ]
  },
  {
   "cell_type": "markdown",
   "id": "984b7446",
   "metadata": {},
   "source": [
    "Pada bagian ini, masing-masing dataset akan ditambahkan 1 kolom baru yang merepresentasikan region dataset dengan tipedata numerik.\n",
    "\n",
    "* Bejaia = 0\n",
    "* Sidi-Bel = 1"
   ]
  },
  {
   "cell_type": "code",
   "execution_count": 5,
   "id": "94d2f519",
   "metadata": {},
   "outputs": [],
   "source": [
    "df_bejaia['region'] = 0\n",
    "df_sidi['region'] = 1"
   ]
  },
  {
   "cell_type": "code",
   "execution_count": 6,
   "id": "9ddf766e",
   "metadata": {},
   "outputs": [],
   "source": [
    "frames = [df_bejaia, df_sidi] \n",
    "df = pd.concat(frames).reset_index(drop=True)"
   ]
  },
  {
   "cell_type": "code",
   "execution_count": 7,
   "id": "bca29d66",
   "metadata": {
    "scrolled": false
   },
   "outputs": [
    {
     "name": "stdout",
     "output_type": "stream",
     "text": [
      "<class 'pandas.core.frame.DataFrame'>\n",
      "RangeIndex: 244 entries, 0 to 243\n",
      "Data columns (total 15 columns):\n",
      " #   Column   Non-Null Count  Dtype  \n",
      "---  ------   --------------  -----  \n",
      " 0   day      244 non-null    int64  \n",
      " 1   month    244 non-null    int64  \n",
      " 2   year     244 non-null    int64  \n",
      " 3   Temp     244 non-null    int64  \n",
      " 4   RH       244 non-null    int64  \n",
      " 5   Ws       244 non-null    int64  \n",
      " 6   Rain     244 non-null    float64\n",
      " 7   FFMC     244 non-null    float64\n",
      " 8   DMC      244 non-null    float64\n",
      " 9   DC       244 non-null    float64\n",
      " 10  ISI      244 non-null    float64\n",
      " 11  BUI      244 non-null    float64\n",
      " 12  FWI      244 non-null    float64\n",
      " 13  Classes  244 non-null    object \n",
      " 14  region   244 non-null    int64  \n",
      "dtypes: float64(7), int64(7), object(1)\n",
      "memory usage: 28.7+ KB\n"
     ]
    }
   ],
   "source": [
    "df.info()"
   ]
  },
  {
   "cell_type": "code",
   "execution_count": 8,
   "id": "30b5f5e7",
   "metadata": {},
   "outputs": [
    {
     "data": {
      "text/plain": [
       "array(['not fire   ', 'fire   ', 'fire', 'fire ', 'not fire', 'not fire ',\n",
       "       'not fire     ', 'not fire    '], dtype=object)"
      ]
     },
     "execution_count": 8,
     "metadata": {},
     "output_type": "execute_result"
    }
   ],
   "source": [
    "df['Classes'].unique()"
   ]
  },
  {
   "cell_type": "code",
   "execution_count": 9,
   "id": "a4bc58b1",
   "metadata": {},
   "outputs": [],
   "source": [
    "# menghapus extra space data\n",
    "df = df.applymap(lambda x: x.strip() if isinstance(x, str) else x)"
   ]
  },
  {
   "cell_type": "code",
   "execution_count": 10,
   "id": "94b2e8fb",
   "metadata": {},
   "outputs": [
    {
     "data": {
      "text/plain": [
       "array(['not fire', 'fire'], dtype=object)"
      ]
     },
     "execution_count": 10,
     "metadata": {},
     "output_type": "execute_result"
    }
   ],
   "source": [
    "df['Classes'].unique()"
   ]
  },
  {
   "cell_type": "markdown",
   "id": "203c7e24",
   "metadata": {},
   "source": [
    "Dari info di atas, ternyata kolom Classes masih bertipe objek. Agar data dapat diproses dalam model, data kolom ini akan diubah ke numerik menggunakan LabelEncoder, dimana\n",
    "* `fire` = 0\n",
    "* `not fire` = 1"
   ]
  },
  {
   "cell_type": "code",
   "execution_count": 11,
   "id": "7bb18823",
   "metadata": {},
   "outputs": [],
   "source": [
    "from sklearn.preprocessing import LabelEncoder\n",
    "\n",
    "le = LabelEncoder()\n",
    "df['Classes'] = le.fit_transform(df['Classes'])"
   ]
  },
  {
   "cell_type": "code",
   "execution_count": 12,
   "id": "0334b659",
   "metadata": {},
   "outputs": [
    {
     "data": {
      "text/html": [
       "<div>\n",
       "<style scoped>\n",
       "    .dataframe tbody tr th:only-of-type {\n",
       "        vertical-align: middle;\n",
       "    }\n",
       "\n",
       "    .dataframe tbody tr th {\n",
       "        vertical-align: top;\n",
       "    }\n",
       "\n",
       "    .dataframe thead th {\n",
       "        text-align: right;\n",
       "    }\n",
       "</style>\n",
       "<table border=\"1\" class=\"dataframe\">\n",
       "  <thead>\n",
       "    <tr style=\"text-align: right;\">\n",
       "      <th></th>\n",
       "      <th>day</th>\n",
       "      <th>month</th>\n",
       "      <th>year</th>\n",
       "      <th>Temp</th>\n",
       "      <th>RH</th>\n",
       "      <th>Ws</th>\n",
       "      <th>Rain</th>\n",
       "      <th>FFMC</th>\n",
       "      <th>DMC</th>\n",
       "      <th>DC</th>\n",
       "      <th>ISI</th>\n",
       "      <th>BUI</th>\n",
       "      <th>FWI</th>\n",
       "      <th>Classes</th>\n",
       "      <th>region</th>\n",
       "    </tr>\n",
       "  </thead>\n",
       "  <tbody>\n",
       "    <tr>\n",
       "      <th>0</th>\n",
       "      <td>1</td>\n",
       "      <td>6</td>\n",
       "      <td>2012</td>\n",
       "      <td>29</td>\n",
       "      <td>57</td>\n",
       "      <td>18</td>\n",
       "      <td>0.0</td>\n",
       "      <td>65.7</td>\n",
       "      <td>3.4</td>\n",
       "      <td>7.6</td>\n",
       "      <td>1.3</td>\n",
       "      <td>3.4</td>\n",
       "      <td>0.5</td>\n",
       "      <td>1</td>\n",
       "      <td>0</td>\n",
       "    </tr>\n",
       "    <tr>\n",
       "      <th>1</th>\n",
       "      <td>2</td>\n",
       "      <td>6</td>\n",
       "      <td>2012</td>\n",
       "      <td>29</td>\n",
       "      <td>61</td>\n",
       "      <td>13</td>\n",
       "      <td>1.3</td>\n",
       "      <td>64.4</td>\n",
       "      <td>4.1</td>\n",
       "      <td>7.6</td>\n",
       "      <td>1.0</td>\n",
       "      <td>3.9</td>\n",
       "      <td>0.4</td>\n",
       "      <td>1</td>\n",
       "      <td>0</td>\n",
       "    </tr>\n",
       "    <tr>\n",
       "      <th>2</th>\n",
       "      <td>3</td>\n",
       "      <td>6</td>\n",
       "      <td>2012</td>\n",
       "      <td>26</td>\n",
       "      <td>82</td>\n",
       "      <td>22</td>\n",
       "      <td>13.1</td>\n",
       "      <td>47.1</td>\n",
       "      <td>2.5</td>\n",
       "      <td>7.1</td>\n",
       "      <td>0.3</td>\n",
       "      <td>2.7</td>\n",
       "      <td>0.1</td>\n",
       "      <td>1</td>\n",
       "      <td>0</td>\n",
       "    </tr>\n",
       "    <tr>\n",
       "      <th>3</th>\n",
       "      <td>4</td>\n",
       "      <td>6</td>\n",
       "      <td>2012</td>\n",
       "      <td>25</td>\n",
       "      <td>89</td>\n",
       "      <td>13</td>\n",
       "      <td>2.5</td>\n",
       "      <td>28.6</td>\n",
       "      <td>1.3</td>\n",
       "      <td>6.9</td>\n",
       "      <td>0.0</td>\n",
       "      <td>1.7</td>\n",
       "      <td>0.0</td>\n",
       "      <td>1</td>\n",
       "      <td>0</td>\n",
       "    </tr>\n",
       "    <tr>\n",
       "      <th>4</th>\n",
       "      <td>5</td>\n",
       "      <td>6</td>\n",
       "      <td>2012</td>\n",
       "      <td>27</td>\n",
       "      <td>77</td>\n",
       "      <td>16</td>\n",
       "      <td>0.0</td>\n",
       "      <td>64.8</td>\n",
       "      <td>3.0</td>\n",
       "      <td>14.2</td>\n",
       "      <td>1.2</td>\n",
       "      <td>3.9</td>\n",
       "      <td>0.5</td>\n",
       "      <td>1</td>\n",
       "      <td>0</td>\n",
       "    </tr>\n",
       "  </tbody>\n",
       "</table>\n",
       "</div>"
      ],
      "text/plain": [
       "   day  month  year  Temp  RH  Ws  Rain  FFMC  DMC    DC  ISI  BUI  FWI  \\\n",
       "0    1      6  2012    29  57  18   0.0  65.7  3.4   7.6  1.3  3.4  0.5   \n",
       "1    2      6  2012    29  61  13   1.3  64.4  4.1   7.6  1.0  3.9  0.4   \n",
       "2    3      6  2012    26  82  22  13.1  47.1  2.5   7.1  0.3  2.7  0.1   \n",
       "3    4      6  2012    25  89  13   2.5  28.6  1.3   6.9  0.0  1.7  0.0   \n",
       "4    5      6  2012    27  77  16   0.0  64.8  3.0  14.2  1.2  3.9  0.5   \n",
       "\n",
       "   Classes  region  \n",
       "0        1       0  \n",
       "1        1       0  \n",
       "2        1       0  \n",
       "3        1       0  \n",
       "4        1       0  "
      ]
     },
     "execution_count": 12,
     "metadata": {},
     "output_type": "execute_result"
    }
   ],
   "source": [
    "df.head()"
   ]
  },
  {
   "cell_type": "code",
   "execution_count": 13,
   "id": "dacb1dbd",
   "metadata": {},
   "outputs": [
    {
     "data": {
      "text/plain": [
       "day        0\n",
       "month      0\n",
       "year       0\n",
       "Temp       0\n",
       "RH         0\n",
       "Ws         0\n",
       "Rain       0\n",
       "FFMC       0\n",
       "DMC        0\n",
       "DC         0\n",
       "ISI        0\n",
       "BUI        0\n",
       "FWI        0\n",
       "Classes    0\n",
       "region     0\n",
       "dtype: int64"
      ]
     },
     "execution_count": 13,
     "metadata": {},
     "output_type": "execute_result"
    }
   ],
   "source": [
    "# mengecek nilai null\n",
    "df.isna().sum()"
   ]
  },
  {
   "cell_type": "code",
   "execution_count": 14,
   "id": "01ea873e",
   "metadata": {
    "scrolled": true
   },
   "outputs": [
    {
     "name": "stdout",
     "output_type": "stream",
     "text": [
      "<class 'pandas.core.frame.DataFrame'>\n",
      "RangeIndex: 244 entries, 0 to 243\n",
      "Data columns (total 15 columns):\n",
      " #   Column   Non-Null Count  Dtype  \n",
      "---  ------   --------------  -----  \n",
      " 0   day      244 non-null    int64  \n",
      " 1   month    244 non-null    int64  \n",
      " 2   year     244 non-null    int64  \n",
      " 3   Temp     244 non-null    int64  \n",
      " 4   RH       244 non-null    int64  \n",
      " 5   Ws       244 non-null    int64  \n",
      " 6   Rain     244 non-null    float64\n",
      " 7   FFMC     244 non-null    float64\n",
      " 8   DMC      244 non-null    float64\n",
      " 9   DC       244 non-null    float64\n",
      " 10  ISI      244 non-null    float64\n",
      " 11  BUI      244 non-null    float64\n",
      " 12  FWI      244 non-null    float64\n",
      " 13  Classes  244 non-null    int32  \n",
      " 14  region   244 non-null    int64  \n",
      "dtypes: float64(7), int32(1), int64(7)\n",
      "memory usage: 27.8 KB\n"
     ]
    }
   ],
   "source": [
    "df.info()"
   ]
  },
  {
   "cell_type": "code",
   "execution_count": 15,
   "id": "1973ceee",
   "metadata": {
    "scrolled": false
   },
   "outputs": [
    {
     "data": {
      "text/plain": [
       "Temp       0.518119\n",
       "FFMC       0.770114\n",
       "DMC        0.584188\n",
       "DC         0.507122\n",
       "ISI        0.736142\n",
       "BUI        0.584545\n",
       "FWI        0.719407\n",
       "Classes    1.000000\n",
       "Name: Classes, dtype: float64"
      ]
     },
     "execution_count": 15,
     "metadata": {},
     "output_type": "execute_result"
    }
   ],
   "source": [
    "# hitung matriks korelasi\n",
    "corr_matrix = df.corr()\n",
    "# identifikasi fitur yang memiliki korelasi tinggi dengan target 'Classes'\n",
    "corr_target = abs(corr_matrix[\"Classes\"])\n",
    "relevant_features = corr_target[corr_target > 0.5]\n",
    "relevant_features"
   ]
  },
  {
   "cell_type": "code",
   "execution_count": 16,
   "id": "2e327ca8",
   "metadata": {},
   "outputs": [],
   "source": [
    "X = df[relevant_features.index]\n",
    "y = df['Classes']"
   ]
  },
  {
   "cell_type": "code",
   "execution_count": 17,
   "id": "0275b160",
   "metadata": {},
   "outputs": [
    {
     "data": {
      "text/plain": [
       "array([1, 0])"
      ]
     },
     "execution_count": 17,
     "metadata": {},
     "output_type": "execute_result"
    }
   ],
   "source": [
    "df['Classes'].unique()"
   ]
  },
  {
   "cell_type": "markdown",
   "id": "96353983",
   "metadata": {},
   "source": [
    "Matriks korelasi di atas dihitung menggunakan metode `corr()` dan fitur-fitur dengan korelasi tinggi dipilih berdasarkan nilai ambang 0.5. Fitur-fitur ini kemudian ditambahkan ke dalam dataframe baru selected_features untuk diproses lebih lanjut."
   ]
  },
  {
   "cell_type": "markdown",
   "id": "f4c4dd9b",
   "metadata": {},
   "source": [
    "## Part 2: Split Dataset"
   ]
  },
  {
   "cell_type": "code",
   "execution_count": 33,
   "id": "a0c0bcc5",
   "metadata": {},
   "outputs": [],
   "source": [
    "from sklearn.model_selection import train_test_split\n",
    "\n",
    "X_train, X_test, y_train, y_test = train_test_split(X, y, test_size=0.3, random_state=42)"
   ]
  },
  {
   "cell_type": "markdown",
   "id": "7f55b59f",
   "metadata": {},
   "source": [
    "## Part 3: Machine Learning"
   ]
  },
  {
   "cell_type": "markdown",
   "id": "e56d9241",
   "metadata": {},
   "source": [
    "#### 1. KNN"
   ]
  },
  {
   "cell_type": "code",
   "execution_count": 34,
   "id": "4ee7a184",
   "metadata": {},
   "outputs": [
    {
     "name": "stdout",
     "output_type": "stream",
     "text": [
      "Akurasi metode KNN:0.9595 atau 95.95%\n"
     ]
    }
   ],
   "source": [
    "from sklearn.neighbors import KNeighborsClassifier\n",
    "import sklearn.metrics as metrics\n",
    "\n",
    "k = 2\n",
    "knn = KNeighborsClassifier(n_neighbors=k)\n",
    "knn_method = KNeighborsClassifier()\n",
    "\n",
    "knn_method.fit(X_train, y_train)\n",
    "knn_predic = knn_method.predict(X_test)\n",
    "\n",
    "accuracy_knn = metrics.accuracy_score(knn_predic, y_test)\n",
    "\n",
    "print('Akurasi metode KNN:', round(accuracy_knn,4), ' atau ', round(accuracy_knn*100,2), '%', sep='')"
   ]
  },
  {
   "cell_type": "markdown",
   "id": "df525a98",
   "metadata": {},
   "source": [
    "#### 2. Decision Tree"
   ]
  },
  {
   "cell_type": "code",
   "execution_count": 35,
   "id": "d80efef7",
   "metadata": {},
   "outputs": [
    {
     "name": "stdout",
     "output_type": "stream",
     "text": [
      "Akurasi metode Tree:1.0 atau 100.0%\n"
     ]
    }
   ],
   "source": [
    "from sklearn.tree import DecisionTreeClassifier\n",
    "import sklearn.metrics as metrics\n",
    "\n",
    "tree_method = DecisionTreeClassifier()\n",
    "tree_method.fit(X_train, y_train)\n",
    "tree_predic = tree_method.predict(X_test)\n",
    "\n",
    "accuracy_tree = metrics.accuracy_score(tree_predic, y_test)\n",
    "\n",
    "print('Akurasi metode Tree:', round(accuracy_tree,8), ' atau ', round(accuracy_tree*100,2), '%', sep='')"
   ]
  },
  {
   "cell_type": "markdown",
   "id": "a60c03c9",
   "metadata": {},
   "source": [
    "#### 3. Naive Bayes"
   ]
  },
  {
   "cell_type": "code",
   "execution_count": 36,
   "id": "de6e5283",
   "metadata": {},
   "outputs": [
    {
     "name": "stdout",
     "output_type": "stream",
     "text": [
      "Akurasi metode Bayes:1.0 atau 100.0%\n"
     ]
    }
   ],
   "source": [
    "from sklearn import naive_bayes\n",
    "import sklearn.metrics as metrics\n",
    "\n",
    "bayes_method = naive_bayes.BernoulliNB()\n",
    "bayes_method.fit(X_train, y_train)\n",
    "bayes_predic = bayes_method.predict(X_test)\n",
    "\n",
    "accuracy_bayes = metrics.accuracy_score(bayes_predic, y_test)\n",
    "\n",
    "print('Akurasi metode Bayes:', round(accuracy_bayes,8), ' atau ', round(accuracy_bayes*100,2), '%', sep='')"
   ]
  },
  {
   "cell_type": "code",
   "execution_count": 37,
   "id": "413d7df7",
   "metadata": {},
   "outputs": [
    {
     "data": {
      "image/png": "[encoded data removed]",
      "text/plain": [
       "<Figure size 432x288 with 1 Axes>"
      ]
     },
     "metadata": {
      "needs_background": "light"
     },
     "output_type": "display_data"
    }
   ],
   "source": [
    "import matplotlib.pyplot as plt\n",
    "\n",
    "models = ['KNN', 'Decision Tree', 'Naive Bayes']\n",
    "accuracies = [accuracy_knn, accuracy_tree, accuracy_bayes]\n",
    "plt.bar(models, accuracies)\n",
    "plt.ylabel('Accuracy')\n",
    "plt.title('Perbandingan Model')\n",
    "plt.show()"
   ]
  },
  {
   "cell_type": "markdown",
   "id": "b46bfb7e",
   "metadata": {},
   "source": [
    "## Part 4: Pengujian Metode"
   ]
  },
  {
   "cell_type": "markdown",
   "id": "bb21f926",
   "metadata": {},
   "source": [
    "#### 1. KNN"
   ]
  },
  {
   "cell_type": "code",
   "execution_count": 22,
   "id": "f6d334bf",
   "metadata": {},
   "outputs": [
    {
     "data": {
      "image/png": "[encoded data removed]",
      "text/plain": [
       "<Figure size 432x288 with 2 Axes>"
      ]
     },
     "metadata": {
      "needs_background": "light"
     },
     "output_type": "display_data"
    }
   ],
   "source": [
    "from sklearn.metrics import confusion_matrix\n",
    "import matplotlib.pyplot as plt\n",
    "import seaborn as sns\n",
    "\n",
    "cm_knn = confusion_matrix(y_test, knn_predic)\n",
    "\n",
    "sns.heatmap(cm_knn, annot=True, cmap='Blues')\n",
    "plt.show()"
   ]
  },
  {
   "cell_type": "markdown",
   "id": "7a43124e",
   "metadata": {},
   "source": [
    "#### 2. Decision Tree"
   ]
  },
  {
   "cell_type": "code",
   "execution_count": 23,
   "id": "c4ec3ee6",
   "metadata": {},
   "outputs": [
    {
     "data": {
      "image/png": "[encoded data removed]",
      "text/plain": [
       "<Figure size 432x288 with 2 Axes>"
      ]
     },
     "metadata": {
      "needs_background": "light"
     },
     "output_type": "display_data"
    }
   ],
   "source": [
    "cm_tree = confusion_matrix(y_test, tree_predic)\n",
    "\n",
    "sns.heatmap(cm_tree, annot=True, cmap='Blues')\n",
    "plt.show()"
   ]
  },
  {
   "cell_type": "markdown",
   "id": "f7341d74",
   "metadata": {},
   "source": [
    "#### 3. Naive Bayes"
   ]
  },
  {
   "cell_type": "code",
   "execution_count": 24,
   "id": "29f18859",
   "metadata": {},
   "outputs": [
    {
     "data": {
      "image/png": "[encoded data removed]",
      "text/plain": [
       "<Figure size 432x288 with 2 Axes>"
      ]
     },
     "metadata": {
      "needs_background": "light"
     },
     "output_type": "display_data"
    }
   ],
   "source": [
    "cm_bayes = confusion_matrix(y_test, bayes_predic)\n",
    "\n",
    "sns.heatmap(cm_bayes, annot=True, cmap='Blues')\n",
    "plt.show()"
   ]
  },
  {
   "cell_type": "code",
   "execution_count": 38,
   "id": "da6bd160",
   "metadata": {},
   "outputs": [
    {
     "data": {
      "text/plain": [
       "(244, 15)"
      ]
     },
     "execution_count": 38,
     "metadata": {},
     "output_type": "execute_result"
    }
   ],
   "source": [
    "df.shape"
   ]
  },
  {
   "cell_type": "markdown",
   "id": "1160d93e",
   "metadata": {},
   "source": [
    "## Part 5: Kesimpulan"
   ]
  },
  {
   "cell_type": "markdown",
   "id": "901cd446",
   "metadata": {},
   "source": [
    "Setelah melakukan preprocessing data, ditemukan bahwa: \n",
    "* Data memiliki 244 baris dan 15 kolom, dan kolom `Classes` adalah target prediksi.\n",
    "* Data diubah ke numerik menggunakan `encoding` untuk dapat menghitung nilai akurasi hasil prediksi.\n",
    "\n",
    "Berdasarkan hasil preprocessing antara model KNN, Decision Tree, dan Naive Bayes, dapat ditarik kesimpulan bahwa hasil prediksi menggunakan model Decision Tree dan Naive Bayes memiliki akurasi yang sempurna yaitu 100%, sedangkan algoritma KNN hanya sekitar 95%. Namun, model yang memilki akurasi 100% pada data tidak selalu berkualitas baik karena kemungkinan telah mengalami overfitting."
   ]
  }
 ],
 "metadata": {
  "kernelspec": {
   "display_name": "Python 3 (ipykernel)",
   "language": "python",
   "name": "python3"
  },
  "language_info": {
   "codemirror_mode": {
    "name": "ipython",
    "version": 3
   },
   "file_extension": ".py",
   "mimetype": "text/x-python",
   "name": "python",
   "nbconvert_exporter": "python",
   "pygments_lexer": "ipython3",
   "version": "3.10.3"
  }
 },
 "nbformat": 4,
 "nbformat_minor": 5
}
