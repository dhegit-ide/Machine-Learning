{
 "cells": [
  {
   "cell_type": "markdown",
   "id": "f5e04f89",
   "metadata": {},
   "source": [
    "Dhea Gita (H071201030)"
   ]
  },
  {
   "cell_type": "markdown",
   "id": "1deea6e9",
   "metadata": {},
   "source": [
    "# <font color = '#008080'>Algoritma Clustering</font>"
   ]
  },
  {
   "cell_type": "markdown",
   "id": "75bc61b7",
   "metadata": {},
   "source": [
    "### <font color = '#808080'>Informasi Data</font>\n",
    "Kumpulan data ini mencakup 721 Pokemon, termasuk `number`, `name`, `first and second type`, dan basic stats: `HP`, `Attack`, `Defense`, `Special Attack`, `Special Defense`, dan `Speed`. Ini adalah atribut mentah yang digunakan untuk menghitung berapa banyak *damage* sebuah serangan dalam game. Kumpulan data ini terntang game Pokemon (BUKAN kartu pokemon atau Pokemon Go).\n",
    "\n",
    "\n",
    "### <font color = '#808080'>Informasi Atribut</font>\n",
    "* **ID** untuk setiap pokemon\n",
    "* **Type 1 -** setiap pokemon memiliki tipe, ini menentukan kelemahan/ketahanan terhadap serangan\n",
    "* **Type 2 -** beberapa pokemon adalah tipe ganda dan memiliki dua\n",
    "* **Total -** jumlah semua stats yang muncul, seberapa kuat pokemon\n",
    "* **HP -** *Hit Points*, atau kesehatan, menentukan seberapa banyak *damage* yang dapat ditahan pokemon sebelum pingsan\n",
    "* **Attack -** serangan normal (misal Scratch, Punch)\n",
    "* **Defense -** pertahanan *base damage* terhadap serangan normal\n",
    "* **SP Atk -** *spesial attack*, serangan khusus (misal fire blast, bubble beam)\n",
    "* **SP Def -** pertahanan *base damage* terhadap serangan khusus\n",
    "* **Speed -** kecepatan serangan pokemon\n",
    "\n",
    "\n",
    "### <font color = '#808080'>Objektif</font>\n",
    "* Part 1: Read Data\n",
    "* Part 2: Split Dataset\n",
    "* Part 3: Machine Learning & Pengujian Metode\n",
    "* Part 4: Kesimpulan\n",
    "\n",
    "\n",
    "### <font color = '#808080'>Sumber Data</font>\n",
    "https://www.kaggle.com/datasets/abcsds/pokemon\n",
    "\n",
    "\n",
    "### <font color = '#808080'>Yang Diperlukan</font>\n",
    "* Python library: `pandas`, `numpy`, `matplotlib`, `scikit-learn`\n",
    "* Datafiles: `Pokemon.csv`"
   ]
  },
  {
   "cell_type": "markdown",
   "id": "438cffea",
   "metadata": {},
   "source": [
    "## Part 1: Read Data"
   ]
  },
  {
   "cell_type": "code",
   "execution_count": 1,
   "id": "483cc81a",
   "metadata": {},
   "outputs": [],
   "source": [
    "import pandas as pd\n",
    "import numpy as np"
   ]
  },
  {
   "cell_type": "code",
   "execution_count": 2,
   "id": "fc16a9be",
   "metadata": {
    "scrolled": true
   },
   "outputs": [
    {
     "data": {
      "text/html": [
       "<div>\n",
       "<style scoped>\n",
       "    .dataframe tbody tr th:only-of-type {\n",
       "        vertical-align: middle;\n",
       "    }\n",
       "\n",
       "    .dataframe tbody tr th {\n",
       "        vertical-align: top;\n",
       "    }\n",
       "\n",
       "    .dataframe thead th {\n",
       "        text-align: right;\n",
       "    }\n",
       "</style>\n",
       "<table border=\"1\" class=\"dataframe\">\n",
       "  <thead>\n",
       "    <tr style=\"text-align: right;\">\n",
       "      <th></th>\n",
       "      <th>#</th>\n",
       "      <th>Name</th>\n",
       "      <th>Type 1</th>\n",
       "      <th>Type 2</th>\n",
       "      <th>Total</th>\n",
       "      <th>HP</th>\n",
       "      <th>Attack</th>\n",
       "      <th>Defense</th>\n",
       "      <th>Sp. Atk</th>\n",
       "      <th>Sp. Def</th>\n",
       "      <th>Speed</th>\n",
       "      <th>Generation</th>\n",
       "      <th>Legendary</th>\n",
       "    </tr>\n",
       "  </thead>\n",
       "  <tbody>\n",
       "    <tr>\n",
       "      <th>0</th>\n",
       "      <td>1</td>\n",
       "      <td>Bulbasaur</td>\n",
       "      <td>Grass</td>\n",
       "      <td>Poison</td>\n",
       "      <td>318</td>\n",
       "      <td>45</td>\n",
       "      <td>49</td>\n",
       "      <td>49</td>\n",
       "      <td>65</td>\n",
       "      <td>65</td>\n",
       "      <td>45</td>\n",
       "      <td>1</td>\n",
       "      <td>False</td>\n",
       "    </tr>\n",
       "    <tr>\n",
       "      <th>1</th>\n",
       "      <td>2</td>\n",
       "      <td>Ivysaur</td>\n",
       "      <td>Grass</td>\n",
       "      <td>Poison</td>\n",
       "      <td>405</td>\n",
       "      <td>60</td>\n",
       "      <td>62</td>\n",
       "      <td>63</td>\n",
       "      <td>80</td>\n",
       "      <td>80</td>\n",
       "      <td>60</td>\n",
       "      <td>1</td>\n",
       "      <td>False</td>\n",
       "    </tr>\n",
       "    <tr>\n",
       "      <th>2</th>\n",
       "      <td>3</td>\n",
       "      <td>Venusaur</td>\n",
       "      <td>Grass</td>\n",
       "      <td>Poison</td>\n",
       "      <td>525</td>\n",
       "      <td>80</td>\n",
       "      <td>82</td>\n",
       "      <td>83</td>\n",
       "      <td>100</td>\n",
       "      <td>100</td>\n",
       "      <td>80</td>\n",
       "      <td>1</td>\n",
       "      <td>False</td>\n",
       "    </tr>\n",
       "    <tr>\n",
       "      <th>3</th>\n",
       "      <td>3</td>\n",
       "      <td>VenusaurMega Venusaur</td>\n",
       "      <td>Grass</td>\n",
       "      <td>Poison</td>\n",
       "      <td>625</td>\n",
       "      <td>80</td>\n",
       "      <td>100</td>\n",
       "      <td>123</td>\n",
       "      <td>122</td>\n",
       "      <td>120</td>\n",
       "      <td>80</td>\n",
       "      <td>1</td>\n",
       "      <td>False</td>\n",
       "    </tr>\n",
       "    <tr>\n",
       "      <th>4</th>\n",
       "      <td>4</td>\n",
       "      <td>Charmander</td>\n",
       "      <td>Fire</td>\n",
       "      <td>NaN</td>\n",
       "      <td>309</td>\n",
       "      <td>39</td>\n",
       "      <td>52</td>\n",
       "      <td>43</td>\n",
       "      <td>60</td>\n",
       "      <td>50</td>\n",
       "      <td>65</td>\n",
       "      <td>1</td>\n",
       "      <td>False</td>\n",
       "    </tr>\n",
       "  </tbody>\n",
       "</table>\n",
       "</div>"
      ],
      "text/plain": [
       "   #                   Name Type 1  Type 2  Total  HP  Attack  Defense  \\\n",
       "0  1              Bulbasaur  Grass  Poison    318  45      49       49   \n",
       "1  2                Ivysaur  Grass  Poison    405  60      62       63   \n",
       "2  3               Venusaur  Grass  Poison    525  80      82       83   \n",
       "3  3  VenusaurMega Venusaur  Grass  Poison    625  80     100      123   \n",
       "4  4             Charmander   Fire     NaN    309  39      52       43   \n",
       "\n",
       "   Sp. Atk  Sp. Def  Speed  Generation  Legendary  \n",
       "0       65       65     45           1      False  \n",
       "1       80       80     60           1      False  \n",
       "2      100      100     80           1      False  \n",
       "3      122      120     80           1      False  \n",
       "4       60       50     65           1      False  "
      ]
     },
     "execution_count": 2,
     "metadata": {},
     "output_type": "execute_result"
    }
   ],
   "source": [
    "df = pd.read_csv('Data/pokemon.csv')\n",
    "df.head()"
   ]
  },
  {
   "cell_type": "code",
   "execution_count": 3,
   "id": "087dd805",
   "metadata": {
    "scrolled": true
   },
   "outputs": [
    {
     "data": {
      "text/plain": [
       "Index(['#', 'Name', 'Type 1', 'Type 2', 'Total', 'HP', 'Attack', 'Defense',\n",
       "       'Sp. Atk', 'Sp. Def', 'Speed', 'Generation', 'Legendary'],\n",
       "      dtype='object')"
      ]
     },
     "execution_count": 3,
     "metadata": {},
     "output_type": "execute_result"
    }
   ],
   "source": [
    "df.columns"
   ]
  },
  {
   "cell_type": "code",
   "execution_count": 4,
   "id": "8abca252",
   "metadata": {
    "scrolled": true
   },
   "outputs": [
    {
     "data": {
      "text/plain": [
       "array(['Poison', nan, 'Flying', 'Dragon', 'Ground', 'Fairy', 'Grass',\n",
       "       'Fighting', 'Psychic', 'Steel', 'Ice', 'Rock', 'Dark', 'Water',\n",
       "       'Electric', 'Fire', 'Ghost', 'Bug', 'Normal'], dtype=object)"
      ]
     },
     "execution_count": 4,
     "metadata": {},
     "output_type": "execute_result"
    }
   ],
   "source": [
    "df['Type 2'].unique()"
   ]
  },
  {
   "cell_type": "code",
   "execution_count": 5,
   "id": "c3128cd7",
   "metadata": {
    "scrolled": true
   },
   "outputs": [
    {
     "name": "stdout",
     "output_type": "stream",
     "text": [
      "<class 'pandas.core.frame.DataFrame'>\n",
      "RangeIndex: 800 entries, 0 to 799\n",
      "Data columns (total 13 columns):\n",
      " #   Column      Non-Null Count  Dtype \n",
      "---  ------      --------------  ----- \n",
      " 0   #           800 non-null    int64 \n",
      " 1   Name        800 non-null    object\n",
      " 2   Type 1      800 non-null    object\n",
      " 3   Type 2      414 non-null    object\n",
      " 4   Total       800 non-null    int64 \n",
      " 5   HP          800 non-null    int64 \n",
      " 6   Attack      800 non-null    int64 \n",
      " 7   Defense     800 non-null    int64 \n",
      " 8   Sp. Atk     800 non-null    int64 \n",
      " 9   Sp. Def     800 non-null    int64 \n",
      " 10  Speed       800 non-null    int64 \n",
      " 11  Generation  800 non-null    int64 \n",
      " 12  Legendary   800 non-null    bool  \n",
      "dtypes: bool(1), int64(9), object(3)\n",
      "memory usage: 75.9+ KB\n"
     ]
    }
   ],
   "source": [
    "df.info()"
   ]
  },
  {
   "cell_type": "markdown",
   "id": "e3f1f4d7",
   "metadata": {},
   "source": [
    "## Part 2: Tahapan Analisis"
   ]
  },
  {
   "cell_type": "code",
   "execution_count": 7,
   "id": "874ec700",
   "metadata": {},
   "outputs": [],
   "source": [
    "from sklearn.cluster import KMeans\n",
    "import matplotlib.pyplot as plt\n",
    "from sklearn.metrics import silhouette_score"
   ]
  },
  {
   "cell_type": "code",
   "execution_count": 8,
   "id": "fac94802",
   "metadata": {
    "scrolled": true
   },
   "outputs": [
    {
     "name": "stdout",
     "output_type": "stream",
     "text": [
      "Skor untuk k = 2: 0.2885765037103704\n",
      "Skor untuk k = 3: 0.2554008927933584\n",
      "Skor untuk k = 4: 0.21703922508755233\n",
      "Skor untuk k = 5: 0.22574713980787464\n",
      "Skor untuk k = 6: 0.2114132325405279\n",
      "Skor untuk k = 7: 0.22551423920551877\n",
      "Skor untuk k = 8: 0.1621701312315144\n",
      "Skor untuk k = 9: 0.1570351184999333\n",
      "Skor untuk k = 10: 0.16043589314820866\n"
     ]
    }
   ],
   "source": [
    "# Memilih fitur yang akan digunakan untuk clustering\n",
    "X = df[['HP', 'Attack', 'Defense', 'Sp. Atk', 'Sp. Def', 'Speed']]\n",
    "\n",
    "# Melakukan normalisasi data\n",
    "X_norm = (X - X.mean()) / X.std()\n",
    "\n",
    "# Melakukan clustering untuk nilai k antara 2 sampai 10\n",
    "for i in range(2, 11):\n",
    "    kmeans = KMeans(n_clusters=i, init='k-means++', random_state=42)\n",
    "    kmeans.fit(X_norm)\n",
    "    labels = kmeans.predict(X_norm)\n",
    "    score = silhouette_score(X_norm, labels)\n",
    "    print(\"Skor untuk k = {}: {}\".format(i, score))"
   ]
  },
  {
   "cell_type": "markdown",
   "id": "ebd864c8",
   "metadata": {},
   "source": [
    "Dari data di atas, nilai k yang baik adalah 2 karena memiliki skor tertinggi di antara yang lainnya."
   ]
  },
  {
   "cell_type": "markdown",
   "id": "55ca180f",
   "metadata": {},
   "source": [
    "## Part 3: Machine Learning"
   ]
  },
  {
   "cell_type": "code",
   "execution_count": 13,
   "id": "56504255",
   "metadata": {
    "scrolled": false
   },
   "outputs": [
    {
     "data": {
      "text/html": [
       "<div>\n",
       "<style scoped>\n",
       "    .dataframe tbody tr th:only-of-type {\n",
       "        vertical-align: middle;\n",
       "    }\n",
       "\n",
       "    .dataframe tbody tr th {\n",
       "        vertical-align: top;\n",
       "    }\n",
       "\n",
       "    .dataframe thead th {\n",
       "        text-align: right;\n",
       "    }\n",
       "</style>\n",
       "<table border=\"1\" class=\"dataframe\">\n",
       "  <thead>\n",
       "    <tr style=\"text-align: right;\">\n",
       "      <th></th>\n",
       "      <th>Name</th>\n",
       "      <th>cluster</th>\n",
       "    </tr>\n",
       "  </thead>\n",
       "  <tbody>\n",
       "    <tr>\n",
       "      <th>0</th>\n",
       "      <td>Bulbasaur</td>\n",
       "      <td>1</td>\n",
       "    </tr>\n",
       "    <tr>\n",
       "      <th>1</th>\n",
       "      <td>Ivysaur</td>\n",
       "      <td>1</td>\n",
       "    </tr>\n",
       "    <tr>\n",
       "      <th>2</th>\n",
       "      <td>Venusaur</td>\n",
       "      <td>0</td>\n",
       "    </tr>\n",
       "    <tr>\n",
       "      <th>3</th>\n",
       "      <td>VenusaurMega Venusaur</td>\n",
       "      <td>0</td>\n",
       "    </tr>\n",
       "    <tr>\n",
       "      <th>4</th>\n",
       "      <td>Charmander</td>\n",
       "      <td>1</td>\n",
       "    </tr>\n",
       "  </tbody>\n",
       "</table>\n",
       "</div>"
      ],
      "text/plain": [
       "                    Name  cluster\n",
       "0              Bulbasaur        1\n",
       "1                Ivysaur        1\n",
       "2               Venusaur        0\n",
       "3  VenusaurMega Venusaur        0\n",
       "4             Charmander        1"
      ]
     },
     "execution_count": 13,
     "metadata": {},
     "output_type": "execute_result"
    }
   ],
   "source": [
    "# Menentukan jumlah cluster\n",
    "kmeans = KMeans(n_clusters=2, init='k-means++', random_state=42)\n",
    "\n",
    "# Melakukan clustering dan memperoleh label cluster\n",
    "y_kmeans = kmeans.fit_predict(X_norm)\n",
    "\n",
    "# Menambahkan kolom cluster pada dataset Pokemon\n",
    "df['cluster'] = y_kmeans\n",
    "df[['Name', 'cluster']].head()"
   ]
  },
  {
   "cell_type": "code",
   "execution_count": 14,
   "id": "0d135aa9",
   "metadata": {},
   "outputs": [],
   "source": [
    "y_kmeans = kmeans.predict(X_norm)"
   ]
  },
  {
   "cell_type": "code",
   "execution_count": 15,
   "id": "1a35c094",
   "metadata": {},
   "outputs": [
    {
     "data": {
      "image/png": "[encoded data removed]",
      "text/plain": [
       "<Figure size 432x288 with 1 Axes>"
      ]
     },
     "metadata": {
      "needs_background": "light"
     },
     "output_type": "display_data"
    }
   ],
   "source": [
    "# membuat scatter plot\n",
    "plt.scatter(df['Attack'], df['Defense'], c=df['cluster'], cmap='viridis')\n",
    "plt.scatter(kmeans.cluster_centers_[:, 1], kmeans.cluster_centers_[:, 2], marker='x', s=200, linewidths=3, color='r')\n",
    "\n",
    "# add labels to the axes\n",
    "plt.xlabel('Attack')\n",
    "plt.ylabel('Defense')\n",
    "\n",
    "# show the plot\n",
    "plt.show()"
   ]
  },
  {
   "cell_type": "markdown",
   "id": "996edabf",
   "metadata": {},
   "source": [
    "## Part 4: Kesimpulan"
   ]
  },
  {
   "cell_type": "markdown",
   "id": "a1d3ea86",
   "metadata": {},
   "source": [
    "Pengujian skor algoritma clustering dilakukan untuk menentukan nilai k yang optimal. Pada kasus ini, nilai k yang optimal adalah 2 karena memiliki skor 0.28, yang jika dibandingkan dengan nilai k lainnya, nilai k=2 memiliki skor tertinggi."
   ]
  }
 ],
 "metadata": {
  "kernelspec": {
   "display_name": "Python 3 (ipykernel)",
   "language": "python",
   "name": "python3"
  },
  "language_info": {
   "codemirror_mode": {
    "name": "ipython",
    "version": 3
   },
   "file_extension": ".py",
   "mimetype": "text/x-python",
   "name": "python",
   "nbconvert_exporter": "python",
   "pygments_lexer": "ipython3",
   "version": "3.10.3"
  }
 },
 "nbformat": 4,
 "nbformat_minor": 5
}
